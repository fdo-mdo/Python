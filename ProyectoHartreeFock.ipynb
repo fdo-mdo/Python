{
 "cells": [
  {
   "cell_type": "markdown",
   "id": "f4d60c7f",
   "metadata": {},
   "source": [
    "# Física Computacional, 2022-1\n",
    "\n",
    "## PROYECTO FINAL: *Método de Hartree-Fock*\n",
    "\n",
    "### - Maldonado Cortés Fernando"
   ]
  },
  {
   "cell_type": "code",
   "execution_count": 1,
   "id": "e5ccef92",
   "metadata": {},
   "outputs": [],
   "source": [
    "#Librerías\n",
    "import sympy as sp\n",
    "import numpy as np\n",
    "import matplotlib.pyplot as plt\n",
    "from sympy import oo\n",
    "from sympy.plotting import plot\n",
    "from itertools import product\n",
    "from scipy.linalg import eig\n",
    "from IPython.display import Math\n",
    "\n",
    "%matplotlib inline\n",
    "sp.init_printing()\n",
    "r, r1, r2, z, z1, z2 = sp.symbols(\"r, r1, r2, z, z1, z2\")  #Variables que utilizaremos frecuentemente\n",
    "n = sp.Symbol('n',integer=True)"
   ]
  },
  {
   "cell_type": "markdown",
   "id": "d6a7d4d6",
   "metadata": {},
   "source": [
    "<h3><center>1. Definición de funciones</center></h3>"
   ]
  },
  {
   "cell_type": "markdown",
   "id": "8e0c59b4",
   "metadata": {},
   "source": [
    "- **Función base (o prueba)** \n",
    "\n",
    "La función *espín orbital* propuesta será de la forma\n",
    "$$\\chi(\\vec{x})=\\begin{cases}\n",
    "\\phi(\\vec{r})\\alpha(\\omega)\\\\\n",
    "\\phi(\\vec{r})\\beta(\\omega)\n",
    "\\end{cases}$$\n",
    "Donde $\\alpha$ y $\\beta$ son las funciones de *espín* y son tales que\n",
    "$$\\hat{S_z}\\alpha=\\frac{1}{2}\\alpha$$\n",
    "$$\\hat{S_z}\\beta=-\\frac{1}{2}\\beta$$\n",
    "Hay dos tipos posibles para la función *orbital*:\n",
    "- Gaussiana\n",
    "$$\\phi(\\vec{r})= N_{l} r^{l} e^{-ar^2}$$\n",
    "- Slater (*STO*)\n",
    "$$\\phi(\\vec{r})= N_{n} r^{n-1} e^{-\\zeta r}$$\n",
    "\n",
    "Donde N es una constante de normalización y en el caso de la función orbital tipo Slater está dada como:\n",
    "$$N_n=(2\\zeta)^n\\sqrt{\\frac{2\\zeta}{(2n)!}}$$"
   ]
  },
  {
   "cell_type": "code",
   "execution_count": 2,
   "id": "2c41b1dd",
   "metadata": {},
   "outputs": [
    {
     "data": {
      "image/png": "[encoded data removed]",
      "text/latex": [
       "$\\displaystyle 2 z^{1.5} e^{- r z}$"
      ],
      "text/plain": [
       "   1.5  -r⋅z\n",
       "2⋅z   ⋅ℯ    "
      ]
     },
     "execution_count": 2,
     "metadata": {},
     "output_type": "execute_result"
    }
   ],
   "source": [
    "#Función orbital tipo Slater (Slater-type orbital)\n",
    "def STO(z, n, r=r):\n",
    "    return (2*z)**n*(2*z/sp.factorial(2*n))**(1/2)*r**(n-1)*sp.exp(-z*r)\n",
    "STO(z,1)"
   ]
  },
  {
   "cell_type": "markdown",
   "id": "adcd716c",
   "metadata": {},
   "source": [
    "- **Métodos de integración numérica**"
   ]
  },
  {
   "cell_type": "code",
   "execution_count": 3,
   "id": "5343bfb0",
   "metadata": {},
   "outputs": [],
   "source": [
    "#Método de Simpson para integrales impropias (0,inf)\n",
    "def simpson(f, n):\n",
    "    F=lambda u: f(u/(1-u))*(1-u)**(-2)\n",
    "    a,b=0.0,0.9999999999999999\n",
    "    h=(b-a)/n\n",
    "    s=0.0\n",
    "    x=a + h\n",
    "    for i in range(1,n,2):\n",
    "        s += 4*F(x)\n",
    "        x += 2*h\n",
    "\n",
    "    x = abs(a + 2*h)\n",
    "    for i in range(2,n,2):\n",
    "        s += 2*F(x)\n",
    "        x += 2*h\n",
    "    return (h/3)*(F(a)+F(b)+s)\n",
    "\n",
    "#Método de Romberg para integrales finitas\n",
    "def trapecio_reducido(f,a,b,N):\n",
    "    h=(b-a)/N\n",
    "    s=0  #s=0.5*f(a)+0.5*f(b) metemos esto en el for\n",
    "    for k in range(1,N//2+1):\n",
    "        s+=f(a+(2*k-1)*h)\n",
    "    return s*h\n",
    "\n",
    "def romberg(f,a,b,epsilon=1e-12):\n",
    "    I = (b-a)/2*(f(b)+f(a)) #capa cero de la recursividad. En realidad es la forma de trapecio modificada \n",
    "    #(análogo a diferencias divididas pero con integración)\n",
    "    eps=1\n",
    "    N=1\n",
    "    R =np.zeros((100,100)) \n",
    "    R[0,0]=I\n",
    "    i=0\n",
    "    while eps>epsilon:\n",
    "        N*=2\n",
    "        i+=1\n",
    "        R[i,0] = R[i-1,0]/2 + trapecio_reducido(f,a,b,N)\n",
    "        for m in range(i):\n",
    "            R[i,m+1] =R[i,m] + 1/(4**(m+1)-1)*(R[i,m] - R[i-1,m])\n",
    "            eps = abs(R[i,m+1]-R[i-1,m])\n",
    "    I= R[i,m+1]\n",
    "    return I"
   ]
  },
  {
   "cell_type": "markdown",
   "id": "308e908d",
   "metadata": {},
   "source": [
    "- **Hamiltoniano**\n",
    "\n",
    "$$H = \\int_{0}^\\infty \\phi_1 \\hat{H} \\phi_2 \\; r^2dr$$\n",
    "\n",
    "$$H = \\int_{0}^\\infty \\phi_1 \\left[\\left(-\\frac{1}{2}\\right) \\nabla^2 - \\dfrac{Z_{\\alpha}}{r}\\right]\\phi_2 \\; r^2 dr$$\n",
    "\n",
    "El operador Laplaciano en coordenadas esféricas está dado como:\n",
    "\n",
    "\\begin{equation}\n",
    "\\nabla^2 f= \\frac{1}{r^2} \\frac{\\partial}{\\partial r}\\left(r^2 \\frac{\\partial f}{\\partial r}\\right) + \\frac{1}{r^2 \\sin\\theta} \\frac{\\partial }{\\partial \\theta}\\left(\\sin\\theta \\frac{\\partial f}{\\partial \\theta}\\right)+\\frac{1}{r^2\\sin^2\\theta} \\frac{\\partial^2 f}{\\partial \\varphi^2}\n",
    "\\end{equation}\n",
    "\n",
    "Si $f$ no tiene parte angular, entonces esto se simpifica\n",
    "\n",
    "\\begin{equation}\n",
    "\\nabla^2 f= \\frac{1}{r^2} \\frac{\\partial}{\\partial r}\\left(r^2 \\frac{\\partial f}{\\partial r}\\right) = \\frac{1}{r} \\frac{\\partial^2 }{\\partial r^2}(rf)\n",
    "\\end{equation}\n",
    "\n",
    "$$\\therefore H = \\int_{0}^\\infty \\phi_1 \\left[-\\frac{1}{2r}  \\frac{\\partial^2}{\\partial r^2}  (r \\phi_2) - \\dfrac{Z_{\\alpha}}{r} \\phi_2 \\right]r^2\\;dr$$\n",
    "\n",
    "En este caso para el átomo de Helio, $Z_\\alpha=2$."
   ]
  },
  {
   "cell_type": "code",
   "execution_count": 4,
   "id": "b2c98ce5",
   "metadata": {},
   "outputs": [],
   "source": [
    "#Integral <1|H|2>\n",
    "def H_int(phi1, phi2, Z):\n",
    "    D2=sp.diff(sp.diff(r*phi2,r), r)\n",
    "    g = lambda x: phi1.evalf(subs={r:x})*(-x)*((D2.evalf(subs={r:x})/2)+Z*phi2.evalf(subs={r:x}))\n",
    "    return simpson(g, 200)"
   ]
  },
  {
   "cell_type": "markdown",
   "id": "fa19e900",
   "metadata": {},
   "source": [
    "Por otro lado, también necesitaremos calcular\n",
    "$$S = \\int_0^\\infty \\phi_1^* \\phi_2 r^2 dr$$"
   ]
  },
  {
   "cell_type": "code",
   "execution_count": 5,
   "id": "02873f59",
   "metadata": {},
   "outputs": [],
   "source": [
    "# Integral <1|2>\n",
    "def S_int(phi1, phi2):\n",
    "    g = lambda x: phi1.evalf(subs={r:x})*phi2.evalf(subs={r:x})*(x**2)\n",
    "    return simpson(g, 200)"
   ]
  },
  {
   "cell_type": "code",
   "execution_count": 6,
   "id": "c0c4f926",
   "metadata": {},
   "outputs": [],
   "source": [
    "# Matriz de valores <1|H|2>\n",
    "def H_mat(fs, Z):\n",
    "    H = np.zeros((len(fs),len(fs)))\n",
    "    for i in range(len(fs)):\n",
    "        for j in range(len(fs)):\n",
    "            H[i, j] =  H_int(fs[i], fs[j], Z)\n",
    "    return H    \n",
    "\n",
    "# Matriz de valores <1|2>\n",
    "def S_mat(fs):\n",
    "    S = np.zeros((len(fs),len(fs)))\n",
    "    for i in range(len(fs)):\n",
    "        for j in range(len(fs)):\n",
    "            S[i, j] =  S_int(fs[i], fs[j])\n",
    "    return S  "
   ]
  },
  {
   "cell_type": "markdown",
   "id": "f1bc7cbb",
   "metadata": {},
   "source": [
    "- **Integral de repulsión entre electrones**\n",
    "$$(rs|tu) = \\int \\int \\dfrac{\\phi_r^*(1) \\phi_s(1) \\phi_t^*(2) \\phi_u(2)}{r_{12}} \\; r_1^2 dr_1\\; r_2^2 dr_2 $$\n",
    "\n",
    "$$(rs|tu) = \\int_{0}^\\infty \\phi_r^*(1) \\phi_s(1)  \\; r_1^2dr_1\\int_{0}^\\infty \\frac{ \\phi_t^*(2) \\phi_u(2)}{r_{12}}\\; r_2^2dr_2  $$\n",
    "\n",
    "$$(rs|tu) = \\int_{0}^\\infty \\phi_r^*(1) \\phi_s(1)  \\; r_1^2\\;dr_1\\left[ \\int_{0}^{r_1} \\frac{\\phi_t^*(2) \\phi_u(2)}{r_{1}}\\; r_2^2dr_2 + \\int_{r_1}^\\infty \\frac{\\phi_t^*(2) \\phi_u(2)}{r_{2}}\\; r_2^2\\;dr_2 \\right]$$\n",
    "\n",
    "$$\\therefore (rs|tu) = \\int_{0}^\\infty \\phi_r^*(1) \\phi_s(1) B \\; r_1^2 dr_1  $$\n",
    "\n",
    "Donde\n",
    "\n",
    "$$ B= \\int_{0}^{r_1} \\frac{\\phi_t^*(2) \\phi_u(2)}{r_{1}}\\; r_2^2dr_2 + \\int_{r_1}^\\infty \\frac{\\phi_t^*(2) \\phi_u(2)}{r_{2}}\\; r_2^2dr_2$$"
   ]
  },
  {
   "cell_type": "code",
   "execution_count": 7,
   "id": "77b1f0c3",
   "metadata": {},
   "outputs": [],
   "source": [
    "def repulsion_int(zetas):\n",
    "    \n",
    "    f1=STO(zetas[0][0], zetas[0][1], r1)\n",
    "    f2=STO(zetas[1][0], zetas[1][1], r1)\n",
    "    f3=STO(zetas[2][0], zetas[2][1], r2)\n",
    "    f4=STO(zetas[3][0], zetas[3][1], r2)\n",
    "    fs = [f1, f2, f3, f4]\n",
    "    \n",
    "    B = (1/r1)*sp.integrate(f3*f4*r2*r2 ,(r2, 0, r1)) + sp.integrate((1/r2)*f3*f4*r2*r2 ,(r2, r1, +oo))\n",
    "    A = sp.integrate(f1*f2*r1*r1*B ,(r1, 0, +oo))\n",
    "    return A"
   ]
  },
  {
   "cell_type": "markdown",
   "id": "025afa48",
   "metadata": {},
   "source": [
    "- **Matriz de densidad**\n",
    "\n",
    "$$ P_{tu} =2 \\sum_{j=1}^{n/2}c_{tj}^* c_{uj} $$"
   ]
  },
  {
   "cell_type": "code",
   "execution_count": 8,
   "id": "9dfe9afc",
   "metadata": {},
   "outputs": [],
   "source": [
    "# Matriz de densidad\n",
    "def P_mat(C):\n",
    "    P = np.zeros([C.shape[0], C.shape[0]])\n",
    "    for t in range(C.shape[0]):\n",
    "        for u in range(C.shape[0]):\n",
    "            for j in range(int(C.shape[0]/2)):\n",
    "                P[t][u] += 2* C[t][j]*C[u][j]\n",
    "    return P  "
   ]
  },
  {
   "cell_type": "markdown",
   "id": "a441b992",
   "metadata": {},
   "source": [
    "- **Matriz de Fock**\n",
    "$$ F_{rs} = H_{rs} + \\sum_{t=1}^{b} \\sum_{t=1}^{b}P_{tu}[(rs|tu)- \\frac{1}2(ru|ts)] $$\n",
    "\n",
    "$$G = \\sum_{t=1}^{b} \\sum_{t=1}^{b}P_{tu}[(rs|tu)- \\frac{1}2(ru|ts)]$$\n",
    "\n",
    "$$ F_{rs} = H_{rs} + G $$  \n",
    "\n",
    "$(rs|tu)$ es la integral de repulsion y $(ru|ts)$ es la integral de intercambio."
   ]
  },
  {
   "cell_type": "code",
   "execution_count": 9,
   "id": "97ae7593",
   "metadata": {},
   "outputs": [],
   "source": [
    "def R_mat(zetas):\n",
    "    R = np.zeros((len(zetas), len(zetas), len(zetas), len(zetas)))\n",
    "\n",
    "    rs = list(product(range(len(zetas)),repeat=2))\n",
    "    tu = list(product(range(len(zetas)),repeat=2))\n",
    "\n",
    "    for r, s in rs:\n",
    "        for t, u in tu:\n",
    "            R[r,s,t,u] = repulsion_int((zetas[r], zetas[s], zetas[t], zetas[u]))\n",
    "    return R\n",
    "\n",
    "\n",
    "\n",
    "def G_mat(zetas, C, R):\n",
    "    G = np.zeros((C.shape[0], C.shape[0]))\n",
    "    P = P_mat(C)\n",
    "    rs = list(product(range( C.shape[0]),repeat=2))\n",
    "    tu = list(product(range( C.shape[0]),repeat=2))\n",
    "    for r, s in rs:\n",
    "        g = 0\n",
    "        for t, u in tu:\n",
    "            int1 = R[r, s, t, u]\n",
    "            int2 = R[r, u, t, s]\n",
    "            g+= P[t, u] * (int1 - 0.5 * int2)\n",
    "        G[r, s] = g\n",
    "    return G\n",
    "\n",
    "# Matriz de Fock\n",
    "def F_mat(fs, Z, zetas, C, R):\n",
    "    return H_mat(fs, Z) + G_mat(zetas, C, R)"
   ]
  },
  {
   "cell_type": "markdown",
   "id": "2c3cb6f8",
   "metadata": {},
   "source": [
    "- **Solución a la ecuación secular**\n",
    "\n",
    "$$det(F_{rs}-\\epsilon_i S_{rs})=0$$\n",
    "\n",
    "El valor $\\epsilon_i$ que cumple esta ecuación es la energía orbital de un solo electrón."
   ]
  },
  {
   "cell_type": "code",
   "execution_count": 10,
   "id": "64323463",
   "metadata": {},
   "outputs": [],
   "source": [
    "def secular(F, S):\n",
    "    ei, C = eig(F, S)\n",
    "    \n",
    "    # organiza los indices de menor a mayor\n",
    "    ind = ei.argsort()[::1]   \n",
    "    ei = ei[ind]\n",
    "    C = C[:,ind]\n",
    "\n",
    "    # normalizamos los eigenvectores\n",
    "    Co = np.zeros((C.shape[0],C.shape[0]))\n",
    "    inte = np.matmul(np.matmul(C.T, S), C)\n",
    "    for i in range(C.shape[0]):\n",
    "        for j in range(C.shape[0]):\n",
    "            Co[j][i]=C[j][i]/np.sqrt(inte[i][i])\n",
    "\n",
    "    return ei, Co"
   ]
  },
  {
   "cell_type": "markdown",
   "id": "c5738fa4",
   "metadata": {},
   "source": [
    "- **Energía atómica (total)**\n",
    "$$ E_{HF} = \\sum_{i=1}^{2/n}\\epsilon  +\\frac{1}2 \\sum_{r=1}^{b} \\sum_{s=1}^{b}P_{rs}H_{rs}+V_{NN} $$"
   ]
  },
  {
   "cell_type": "code",
   "execution_count": 11,
   "id": "41c384bf",
   "metadata": {},
   "outputs": [],
   "source": [
    "def E_HF(e, P, H):\n",
    "    E0 = 0\n",
    "    for i in range(int(e.shape[0]/2)):\n",
    "        E0 += e[i].real \n",
    "    E0 = E0 + 0.5*(P*H).sum()\n",
    "    return E0 "
   ]
  },
  {
   "cell_type": "markdown",
   "id": "45318ff3",
   "metadata": {},
   "source": [
    "<h3><center>2. Implementación del método</center></h3>"
   ]
  },
  {
   "cell_type": "code",
   "execution_count": 12,
   "id": "acc497a6",
   "metadata": {},
   "outputs": [
    {
     "name": "stdout",
     "output_type": "stream",
     "text": [
      "---------------------------------------- Aproximación inicial ----------------------------------------\n",
      "Función Orbital\n"
     ]
    },
    {
     "data": {
      "text/latex": [
       "$\\displaystyle \\chi_i = 2(\\zeta_i)^{3/2} e^{-r \\zeta_i} $"
      ],
      "text/plain": [
       "<IPython.core.display.Math object>"
      ]
     },
     "metadata": {},
     "output_type": "display_data"
    },
    {
     "data": {
      "text/latex": [
       "$\\displaystyle \\zeta_1 = 1.450 \\quad \\zeta_2 = 2.910$"
      ],
      "text/plain": [
       "<IPython.core.display.Math object>"
      ]
     },
     "metadata": {},
     "output_type": "display_data"
    },
    {
     "name": "stdout",
     "output_type": "stream",
     "text": [
      "Función de onda aproximada\n"
     ]
    },
    {
     "data": {
      "text/latex": [
       "$\\displaystyle  \\phi_1 = c_{11} \\chi_1 + c_{21} \\chi_2 $"
      ],
      "text/plain": [
       "<IPython.core.display.Math object>"
      ]
     },
     "metadata": {},
     "output_type": "display_data"
    },
    {
     "data": {
      "text/latex": [
       "$\\displaystyle  \\phi_2 = c_{12} \\chi_1 + c_{22} \\chi_2 $"
      ],
      "text/plain": [
       "<IPython.core.display.Math object>"
      ]
     },
     "metadata": {},
     "output_type": "display_data"
    },
    {
     "data": {
      "text/latex": [
       "$\\displaystyle c11 = -0.6599574885 \\quad c21 = -0.3802362991 $"
      ],
      "text/plain": [
       "<IPython.core.display.Math object>"
      ]
     },
     "metadata": {},
     "output_type": "display_data"
    },
    {
     "data": {
      "text/latex": [
       "$\\displaystyle c12 = -1.7020053402 \\quad c22 = 1.7854373164 $"
      ],
      "text/plain": [
       "<IPython.core.display.Math object>"
      ]
     },
     "metadata": {},
     "output_type": "display_data"
    },
    {
     "name": "stdout",
     "output_type": "stream",
     "text": [
      "Energías de cada electrón\n"
     ]
    },
    {
     "data": {
      "text/latex": [
       "$\\displaystyle  \\epsilon_1 = -1.9793348737 $"
      ],
      "text/plain": [
       "<IPython.core.display.Math object>"
      ]
     },
     "metadata": {},
     "output_type": "display_data"
    },
    {
     "data": {
      "text/latex": [
       "$\\displaystyle  \\epsilon_2 = 1.0304705932 $"
      ],
      "text/plain": [
       "<IPython.core.display.Math object>"
      ]
     },
     "metadata": {},
     "output_type": "display_data"
    },
    {
     "name": "stdout",
     "output_type": "stream",
     "text": [
      "Energía total del átomo\n"
     ]
    },
    {
     "data": {
      "text/latex": [
       "$\\displaystyle  E_0 = -3.9586697475 \\ E_h = -107.7193624981 \\ eV$"
      ],
      "text/plain": [
       "<IPython.core.display.Math object>"
      ]
     },
     "metadata": {},
     "output_type": "display_data"
    },
    {
     "name": "stdout",
     "output_type": "stream",
     "text": [
      "-------------------------------------------------- Iteración # 1 --------------------------------------------------\n"
     ]
    },
    {
     "data": {
      "text/latex": [
       "$\\displaystyle \\zeta_1 = 1.450 \\quad \\zeta_2 = 2.910$"
      ],
      "text/plain": [
       "<IPython.core.display.Math object>"
      ]
     },
     "metadata": {},
     "output_type": "display_data"
    },
    {
     "name": "stdout",
     "output_type": "stream",
     "text": [
      "Función de onda aproximada\n"
     ]
    },
    {
     "data": {
      "text/latex": [
       "$\\displaystyle  \\phi_1 = c_{11} \\chi_1 + c_{21} \\chi_2 $"
      ],
      "text/plain": [
       "<IPython.core.display.Math object>"
      ]
     },
     "metadata": {},
     "output_type": "display_data"
    },
    {
     "data": {
      "text/latex": [
       "$\\displaystyle  \\phi_2 = c_{12} \\chi_1 + c_{22} \\chi_2 $"
      ],
      "text/plain": [
       "<IPython.core.display.Math object>"
      ]
     },
     "metadata": {},
     "output_type": "display_data"
    },
    {
     "data": {
      "text/latex": [
       "$\\displaystyle c11 = -0.6599574885 \\quad c21 = -0.3802362991 $"
      ],
      "text/plain": [
       "<IPython.core.display.Math object>"
      ]
     },
     "metadata": {},
     "output_type": "display_data"
    },
    {
     "data": {
      "text/latex": [
       "$\\displaystyle c12 = -1.7020053402 \\quad c22 = 1.7854373164 $"
      ],
      "text/plain": [
       "<IPython.core.display.Math object>"
      ]
     },
     "metadata": {},
     "output_type": "display_data"
    },
    {
     "data": {
      "image/png": "[encoded data removed]",
      "text/plain": [
       "<Figure size 432x288 with 1 Axes>"
      ]
     },
     "metadata": {
      "needs_background": "light"
     },
     "output_type": "display_data"
    },
    {
     "name": "stdout",
     "output_type": "stream",
     "text": [
      "Energías de cada electrón\n"
     ]
    },
    {
     "data": {
      "text/latex": [
       "$\\displaystyle  \\epsilon_1  = -1.9793348737 $"
      ],
      "text/plain": [
       "<IPython.core.display.Math object>"
      ]
     },
     "metadata": {},
     "output_type": "display_data"
    },
    {
     "data": {
      "text/latex": [
       "$\\displaystyle  \\epsilon_2  = 1.0304705932 $"
      ],
      "text/plain": [
       "<IPython.core.display.Math object>"
      ]
     },
     "metadata": {},
     "output_type": "display_data"
    },
    {
     "name": "stdout",
     "output_type": "stream",
     "text": [
      "Energía total del átomo\n"
     ]
    },
    {
     "data": {
      "text/latex": [
       "$\\displaystyle E_0 = -3.9586697475 \\ E_h = -107.7193624981 \\ eV$"
      ],
      "text/plain": [
       "<IPython.core.display.Math object>"
      ]
     },
     "metadata": {},
     "output_type": "display_data"
    },
    {
     "name": "stdout",
     "output_type": "stream",
     "text": [
      "-------------------------------------------------- Iteración # 2 --------------------------------------------------\n"
     ]
    },
    {
     "data": {
      "text/latex": [
       "$\\displaystyle \\zeta_1 = 1.450 \\quad \\zeta_2 = 2.910$"
      ],
      "text/plain": [
       "<IPython.core.display.Math object>"
      ]
     },
     "metadata": {},
     "output_type": "display_data"
    },
    {
     "name": "stdout",
     "output_type": "stream",
     "text": [
      "Función de onda aproximada\n"
     ]
    },
    {
     "data": {
      "text/latex": [
       "$\\displaystyle  \\phi_1 = c_{11} \\chi_1 + c_{21} \\chi_2 $"
      ],
      "text/plain": [
       "<IPython.core.display.Math object>"
      ]
     },
     "metadata": {},
     "output_type": "display_data"
    },
    {
     "data": {
      "text/latex": [
       "$\\displaystyle  \\phi_2 = c_{12} \\chi_1 + c_{22} \\chi_2 $"
      ],
      "text/plain": [
       "<IPython.core.display.Math object>"
      ]
     },
     "metadata": {},
     "output_type": "display_data"
    },
    {
     "data": {
      "text/latex": [
       "$\\displaystyle c11 = -0.8341756810 \\quad c21 = -0.1916075941 $"
      ],
      "text/plain": [
       "<IPython.core.display.Math object>"
      ]
     },
     "metadata": {},
     "output_type": "display_data"
    },
    {
     "data": {
      "text/latex": [
       "$\\displaystyle c12 = -1.6237355074 \\quad c22 = 1.8153932310 $"
      ],
      "text/plain": [
       "<IPython.core.display.Math object>"
      ]
     },
     "metadata": {},
     "output_type": "display_data"
    },
    {
     "data": {
      "image/png": "[encoded data removed]",
      "text/plain": [
       "<Figure size 432x288 with 1 Axes>"
      ]
     },
     "metadata": {
      "needs_background": "light"
     },
     "output_type": "display_data"
    },
    {
     "name": "stdout",
     "output_type": "stream",
     "text": [
      "Energías de cada electrón\n"
     ]
    },
    {
     "data": {
      "text/latex": [
       "$\\displaystyle  \\epsilon_1  = -0.8378284251 $"
      ],
      "text/plain": [
       "<IPython.core.display.Math object>"
      ]
     },
     "metadata": {},
     "output_type": "display_data"
    },
    {
     "data": {
      "text/latex": [
       "$\\displaystyle  \\epsilon_2  = 2.9026115589 $"
      ],
      "text/plain": [
       "<IPython.core.display.Math object>"
      ]
     },
     "metadata": {},
     "output_type": "display_data"
    },
    {
     "name": "stdout",
     "output_type": "stream",
     "text": [
      "Energía total del átomo\n"
     ]
    },
    {
     "data": {
      "text/latex": [
       "$\\displaystyle E_0 = -2.7843062672 \\ E_h = -75.7637578369 \\ eV$"
      ],
      "text/plain": [
       "<IPython.core.display.Math object>"
      ]
     },
     "metadata": {},
     "output_type": "display_data"
    },
    {
     "name": "stdout",
     "output_type": "stream",
     "text": [
      "-------------------------------------------------- Iteración # 3 --------------------------------------------------\n"
     ]
    },
    {
     "data": {
      "text/latex": [
       "$\\displaystyle \\zeta_1 = 1.450 \\quad \\zeta_2 = 2.910$"
      ],
      "text/plain": [
       "<IPython.core.display.Math object>"
      ]
     },
     "metadata": {},
     "output_type": "display_data"
    },
    {
     "name": "stdout",
     "output_type": "stream",
     "text": [
      "Función de onda aproximada\n"
     ]
    },
    {
     "data": {
      "text/latex": [
       "$\\displaystyle  \\phi_1 = c_{11} \\chi_1 + c_{21} \\chi_2 $"
      ],
      "text/plain": [
       "<IPython.core.display.Math object>"
      ]
     },
     "metadata": {},
     "output_type": "display_data"
    },
    {
     "data": {
      "text/latex": [
       "$\\displaystyle  \\phi_2 = c_{12} \\chi_1 + c_{22} \\chi_2 $"
      ],
      "text/plain": [
       "<IPython.core.display.Math object>"
      ]
     },
     "metadata": {},
     "output_type": "display_data"
    },
    {
     "data": {
      "text/latex": [
       "$\\displaystyle c11 = -0.8417457320 \\quad c21 = -0.1831317643 $"
      ],
      "text/plain": [
       "<IPython.core.display.Math object>"
      ]
     },
     "metadata": {},
     "output_type": "display_data"
    },
    {
     "data": {
      "text/latex": [
       "$\\displaystyle c12 = -1.6198241224 \\quad c22 = 1.8162678245 $"
      ],
      "text/plain": [
       "<IPython.core.display.Math object>"
      ]
     },
     "metadata": {},
     "output_type": "display_data"
    },
    {
     "data": {
      "image/png": "[encoded data removed]",
      "text/plain": [
       "<Figure size 432x288 with 1 Axes>"
      ]
     },
     "metadata": {
      "needs_background": "light"
     },
     "output_type": "display_data"
    },
    {
     "name": "stdout",
     "output_type": "stream",
     "text": [
      "Energías de cada electrón\n"
     ]
    },
    {
     "data": {
      "text/latex": [
       "$\\displaystyle  \\epsilon_1  = -0.9151021149 $"
      ],
      "text/plain": [
       "<IPython.core.display.Math object>"
      ]
     },
     "metadata": {},
     "output_type": "display_data"
    },
    {
     "data": {
      "text/latex": [
       "$\\displaystyle  \\epsilon_2  = 2.8148768435 $"
      ],
      "text/plain": [
       "<IPython.core.display.Math object>"
      ]
     },
     "metadata": {},
     "output_type": "display_data"
    },
    {
     "name": "stdout",
     "output_type": "stream",
     "text": [
      "Energía total del átomo\n"
     ]
    },
    {
     "data": {
      "text/latex": [
       "$\\displaystyle E_0 = -2.8585961701 \\ E_h = -77.7852603858 \\ eV$"
      ],
      "text/plain": [
       "<IPython.core.display.Math object>"
      ]
     },
     "metadata": {},
     "output_type": "display_data"
    },
    {
     "name": "stdout",
     "output_type": "stream",
     "text": [
      "-------------------------------------------------- Iteración # 4 --------------------------------------------------\n"
     ]
    },
    {
     "data": {
      "text/latex": [
       "$\\displaystyle \\zeta_1 = 1.450 \\quad \\zeta_2 = 2.910$"
      ],
      "text/plain": [
       "<IPython.core.display.Math object>"
      ]
     },
     "metadata": {},
     "output_type": "display_data"
    },
    {
     "name": "stdout",
     "output_type": "stream",
     "text": [
      "Función de onda aproximada\n"
     ]
    },
    {
     "data": {
      "text/latex": [
       "$\\displaystyle  \\phi_1 = c_{11} \\chi_1 + c_{21} \\chi_2 $"
      ],
      "text/plain": [
       "<IPython.core.display.Math object>"
      ]
     },
     "metadata": {},
     "output_type": "display_data"
    },
    {
     "data": {
      "text/latex": [
       "$\\displaystyle  \\phi_2 = c_{12} \\chi_1 + c_{22} \\chi_2 $"
      ],
      "text/plain": [
       "<IPython.core.display.Math object>"
      ]
     },
     "metadata": {},
     "output_type": "display_data"
    },
    {
     "data": {
      "text/latex": [
       "$\\displaystyle c11 = -0.8421152317 \\quad c21 = -0.1827174242 $"
      ],
      "text/plain": [
       "<IPython.core.display.Math object>"
      ]
     },
     "metadata": {},
     "output_type": "display_data"
    },
    {
     "data": {
      "text/latex": [
       "$\\displaystyle c12 = -1.6196320574 \\quad c22 = 1.8163095541 $"
      ],
      "text/plain": [
       "<IPython.core.display.Math object>"
      ]
     },
     "metadata": {},
     "output_type": "display_data"
    },
    {
     "data": {
      "image/png": "[encoded data removed]",
      "text/plain": [
       "<Figure size 432x288 with 1 Axes>"
      ]
     },
     "metadata": {
      "needs_background": "light"
     },
     "output_type": "display_data"
    },
    {
     "name": "stdout",
     "output_type": "stream",
     "text": [
      "Energías de cada electrón\n"
     ]
    },
    {
     "data": {
      "text/latex": [
       "$\\displaystyle  \\epsilon_1  = -0.9181752787 $"
      ],
      "text/plain": [
       "<IPython.core.display.Math object>"
      ]
     },
     "metadata": {},
     "output_type": "display_data"
    },
    {
     "data": {
      "text/latex": [
       "$\\displaystyle  \\epsilon_2  = 2.8106399489 $"
      ],
      "text/plain": [
       "<IPython.core.display.Math object>"
      ]
     },
     "metadata": {},
     "output_type": "display_data"
    },
    {
     "name": "stdout",
     "output_type": "stream",
     "text": [
      "Energía total del átomo\n"
     ]
    },
    {
     "data": {
      "text/latex": [
       "$\\displaystyle E_0 = -2.8615202247 \\ E_h = -77.8648268339 \\ eV$"
      ],
      "text/plain": [
       "<IPython.core.display.Math object>"
      ]
     },
     "metadata": {},
     "output_type": "display_data"
    },
    {
     "name": "stdout",
     "output_type": "stream",
     "text": [
      "-------------------------------------------------- Iteración # 5 --------------------------------------------------\n"
     ]
    },
    {
     "data": {
      "text/latex": [
       "$\\displaystyle \\zeta_1 = 1.450 \\quad \\zeta_2 = 2.910$"
      ],
      "text/plain": [
       "<IPython.core.display.Math object>"
      ]
     },
     "metadata": {},
     "output_type": "display_data"
    },
    {
     "name": "stdout",
     "output_type": "stream",
     "text": [
      "Función de onda aproximada\n"
     ]
    },
    {
     "data": {
      "text/latex": [
       "$\\displaystyle  \\phi_1 = c_{11} \\chi_1 + c_{21} \\chi_2 $"
      ],
      "text/plain": [
       "<IPython.core.display.Math object>"
      ]
     },
     "metadata": {},
     "output_type": "display_data"
    },
    {
     "data": {
      "text/latex": [
       "$\\displaystyle  \\phi_2 = c_{12} \\chi_1 + c_{22} \\chi_2 $"
      ],
      "text/plain": [
       "<IPython.core.display.Math object>"
      ]
     },
     "metadata": {},
     "output_type": "display_data"
    },
    {
     "data": {
      "text/latex": [
       "$\\displaystyle c11 = -0.8421333574 \\quad c21 = -0.1826970974 $"
      ],
      "text/plain": [
       "<IPython.core.display.Math object>"
      ]
     },
     "metadata": {},
     "output_type": "display_data"
    },
    {
     "data": {
      "text/latex": [
       "$\\displaystyle c12 = -1.6196226329 \\quad c22 = 1.8163115988 $"
      ],
      "text/plain": [
       "<IPython.core.display.Math object>"
      ]
     },
     "metadata": {},
     "output_type": "display_data"
    },
    {
     "data": {
      "image/png": "[encoded data removed]",
      "text/plain": [
       "<Figure size 432x288 with 1 Axes>"
      ]
     },
     "metadata": {
      "needs_background": "light"
     },
     "output_type": "display_data"
    },
    {
     "name": "stdout",
     "output_type": "stream",
     "text": [
      "Energías de cada electrón\n"
     ]
    },
    {
     "data": {
      "text/latex": [
       "$\\displaystyle  \\epsilon_1  = -0.9183246014 $"
      ],
      "text/plain": [
       "<IPython.core.display.Math object>"
      ]
     },
     "metadata": {},
     "output_type": "display_data"
    },
    {
     "data": {
      "text/latex": [
       "$\\displaystyle  \\epsilon_2  = 2.8104322435 $"
      ],
      "text/plain": [
       "<IPython.core.display.Math object>"
      ]
     },
     "metadata": {},
     "output_type": "display_data"
    },
    {
     "name": "stdout",
     "output_type": "stream",
     "text": [
      "Energía total del átomo\n"
     ]
    },
    {
     "data": {
      "text/latex": [
       "$\\displaystyle E_0 = -2.8616622246 \\ E_h = -77.8686907938 \\ eV$"
      ],
      "text/plain": [
       "<IPython.core.display.Math object>"
      ]
     },
     "metadata": {},
     "output_type": "display_data"
    },
    {
     "name": "stdout",
     "output_type": "stream",
     "text": [
      "-------------------------------------------------- Iteración # 6 --------------------------------------------------\n"
     ]
    },
    {
     "data": {
      "text/latex": [
       "$\\displaystyle \\zeta_1 = 1.450 \\quad \\zeta_2 = 2.910$"
      ],
      "text/plain": [
       "<IPython.core.display.Math object>"
      ]
     },
     "metadata": {},
     "output_type": "display_data"
    },
    {
     "name": "stdout",
     "output_type": "stream",
     "text": [
      "Función de onda aproximada\n"
     ]
    },
    {
     "data": {
      "text/latex": [
       "$\\displaystyle  \\phi_1 = c_{11} \\chi_1 + c_{21} \\chi_2 $"
      ],
      "text/plain": [
       "<IPython.core.display.Math object>"
      ]
     },
     "metadata": {},
     "output_type": "display_data"
    },
    {
     "data": {
      "text/latex": [
       "$\\displaystyle  \\phi_2 = c_{12} \\chi_1 + c_{22} \\chi_2 $"
      ],
      "text/plain": [
       "<IPython.core.display.Math object>"
      ]
     },
     "metadata": {},
     "output_type": "display_data"
    },
    {
     "data": {
      "text/latex": [
       "$\\displaystyle c11 = -0.8421342468 \\quad c21 = -0.1826961000 $"
      ],
      "text/plain": [
       "<IPython.core.display.Math object>"
      ]
     },
     "metadata": {},
     "output_type": "display_data"
    },
    {
     "data": {
      "text/latex": [
       "$\\displaystyle c12 = -1.6196221705 \\quad c22 = 1.8163116991 $"
      ],
      "text/plain": [
       "<IPython.core.display.Math object>"
      ]
     },
     "metadata": {},
     "output_type": "display_data"
    },
    {
     "data": {
      "image/png": "[encoded data removed]",
      "text/plain": [
       "<Figure size 432x288 with 1 Axes>"
      ]
     },
     "metadata": {
      "needs_background": "light"
     },
     "output_type": "display_data"
    },
    {
     "name": "stdout",
     "output_type": "stream",
     "text": [
      "Energías de cada electrón\n"
     ]
    },
    {
     "data": {
      "text/latex": [
       "$\\displaystyle  \\epsilon_1  = -0.9183319247 $"
      ],
      "text/plain": [
       "<IPython.core.display.Math object>"
      ]
     },
     "metadata": {},
     "output_type": "display_data"
    },
    {
     "data": {
      "text/latex": [
       "$\\displaystyle  \\epsilon_2  = 2.8104220525 $"
      ],
      "text/plain": [
       "<IPython.core.display.Math object>"
      ]
     },
     "metadata": {},
     "output_type": "display_data"
    },
    {
     "name": "stdout",
     "output_type": "stream",
     "text": [
      "Energía total del átomo\n"
     ]
    },
    {
     "data": {
      "text/latex": [
       "$\\displaystyle E_0 = -2.8616691886 \\ E_h = -77.8688802916 \\ eV$"
      ],
      "text/plain": [
       "<IPython.core.display.Math object>"
      ]
     },
     "metadata": {},
     "output_type": "display_data"
    },
    {
     "name": "stdout",
     "output_type": "stream",
     "text": [
      "-------------------------------------------------- Iteración # 7 --------------------------------------------------\n"
     ]
    },
    {
     "data": {
      "text/latex": [
       "$\\displaystyle \\zeta_1 = 1.450 \\quad \\zeta_2 = 2.910$"
      ],
      "text/plain": [
       "<IPython.core.display.Math object>"
      ]
     },
     "metadata": {},
     "output_type": "display_data"
    },
    {
     "name": "stdout",
     "output_type": "stream",
     "text": [
      "Función de onda aproximada\n"
     ]
    },
    {
     "data": {
      "text/latex": [
       "$\\displaystyle  \\phi_1 = c_{11} \\chi_1 + c_{21} \\chi_2 $"
      ],
      "text/plain": [
       "<IPython.core.display.Math object>"
      ]
     },
     "metadata": {},
     "output_type": "display_data"
    },
    {
     "data": {
      "text/latex": [
       "$\\displaystyle  \\phi_2 = c_{12} \\chi_1 + c_{22} \\chi_2 $"
      ],
      "text/plain": [
       "<IPython.core.display.Math object>"
      ]
     },
     "metadata": {},
     "output_type": "display_data"
    },
    {
     "data": {
      "text/latex": [
       "$\\displaystyle c11 = -0.8421342904 \\quad c21 = -0.1826960511 $"
      ],
      "text/plain": [
       "<IPython.core.display.Math object>"
      ]
     },
     "metadata": {},
     "output_type": "display_data"
    },
    {
     "data": {
      "text/latex": [
       "$\\displaystyle c12 = -1.6196221478 \\quad c22 = 1.8163117040 $"
      ],
      "text/plain": [
       "<IPython.core.display.Math object>"
      ]
     },
     "metadata": {},
     "output_type": "display_data"
    },
    {
     "data": {
      "image/png": "[encoded data removed]",
      "text/plain": [
       "<Figure size 432x288 with 1 Axes>"
      ]
     },
     "metadata": {
      "needs_background": "light"
     },
     "output_type": "display_data"
    },
    {
     "name": "stdout",
     "output_type": "stream",
     "text": [
      "Energías de cada electrón\n"
     ]
    },
    {
     "data": {
      "text/latex": [
       "$\\displaystyle  \\epsilon_1  = -0.9183322841 $"
      ],
      "text/plain": [
       "<IPython.core.display.Math object>"
      ]
     },
     "metadata": {},
     "output_type": "display_data"
    },
    {
     "data": {
      "text/latex": [
       "$\\displaystyle  \\epsilon_2  = 2.8104215524 $"
      ],
      "text/plain": [
       "<IPython.core.display.Math object>"
      ]
     },
     "metadata": {},
     "output_type": "display_data"
    },
    {
     "name": "stdout",
     "output_type": "stream",
     "text": [
      "Energía total del átomo\n"
     ]
    },
    {
     "data": {
      "text/latex": [
       "$\\displaystyle E_0 = -2.8616695303 \\ E_h = -77.8688895895 \\ eV$"
      ],
      "text/plain": [
       "<IPython.core.display.Math object>"
      ]
     },
     "metadata": {},
     "output_type": "display_data"
    },
    {
     "name": "stdout",
     "output_type": "stream",
     "text": [
      "-------------------------------------------------- Iteración # 8 --------------------------------------------------\n"
     ]
    },
    {
     "data": {
      "text/latex": [
       "$\\displaystyle \\zeta_1 = 1.450 \\quad \\zeta_2 = 2.910$"
      ],
      "text/plain": [
       "<IPython.core.display.Math object>"
      ]
     },
     "metadata": {},
     "output_type": "display_data"
    },
    {
     "name": "stdout",
     "output_type": "stream",
     "text": [
      "Función de onda aproximada\n"
     ]
    },
    {
     "data": {
      "text/latex": [
       "$\\displaystyle  \\phi_1 = c_{11} \\chi_1 + c_{21} \\chi_2 $"
      ],
      "text/plain": [
       "<IPython.core.display.Math object>"
      ]
     },
     "metadata": {},
     "output_type": "display_data"
    },
    {
     "data": {
      "text/latex": [
       "$\\displaystyle  \\phi_2 = c_{12} \\chi_1 + c_{22} \\chi_2 $"
      ],
      "text/plain": [
       "<IPython.core.display.Math object>"
      ]
     },
     "metadata": {},
     "output_type": "display_data"
    },
    {
     "data": {
      "text/latex": [
       "$\\displaystyle c11 = -0.8421342926 \\quad c21 = -0.1826960487 $"
      ],
      "text/plain": [
       "<IPython.core.display.Math object>"
      ]
     },
     "metadata": {},
     "output_type": "display_data"
    },
    {
     "data": {
      "text/latex": [
       "$\\displaystyle c12 = -1.6196221467 \\quad c22 = 1.8163117043 $"
      ],
      "text/plain": [
       "<IPython.core.display.Math object>"
      ]
     },
     "metadata": {},
     "output_type": "display_data"
    },
    {
     "data": {
      "image/png": "[encoded data removed]",
      "text/plain": [
       "<Figure size 432x288 with 1 Axes>"
      ]
     },
     "metadata": {
      "needs_background": "light"
     },
     "output_type": "display_data"
    },
    {
     "name": "stdout",
     "output_type": "stream",
     "text": [
      "Energías de cada electrón\n"
     ]
    },
    {
     "data": {
      "text/latex": [
       "$\\displaystyle  \\epsilon_1  = -0.9183323017 $"
      ],
      "text/plain": [
       "<IPython.core.display.Math object>"
      ]
     },
     "metadata": {},
     "output_type": "display_data"
    },
    {
     "data": {
      "text/latex": [
       "$\\displaystyle  \\epsilon_2  = 2.8104215279 $"
      ],
      "text/plain": [
       "<IPython.core.display.Math object>"
      ]
     },
     "metadata": {},
     "output_type": "display_data"
    },
    {
     "name": "stdout",
     "output_type": "stream",
     "text": [
      "Energía total del átomo\n"
     ]
    },
    {
     "data": {
      "text/latex": [
       "$\\displaystyle E_0 = -2.8616695471 \\ E_h = -77.8688900457 \\ eV$"
      ],
      "text/plain": [
       "<IPython.core.display.Math object>"
      ]
     },
     "metadata": {},
     "output_type": "display_data"
    },
    {
     "name": "stdout",
     "output_type": "stream",
     "text": [
      "-------------------------------------------------- Iteración # 9 --------------------------------------------------\n"
     ]
    },
    {
     "data": {
      "text/latex": [
       "$\\displaystyle \\zeta_1 = 1.450 \\quad \\zeta_2 = 2.910$"
      ],
      "text/plain": [
       "<IPython.core.display.Math object>"
      ]
     },
     "metadata": {},
     "output_type": "display_data"
    },
    {
     "name": "stdout",
     "output_type": "stream",
     "text": [
      "Función de onda aproximada\n"
     ]
    },
    {
     "data": {
      "text/latex": [
       "$\\displaystyle  \\phi_1 = c_{11} \\chi_1 + c_{21} \\chi_2 $"
      ],
      "text/plain": [
       "<IPython.core.display.Math object>"
      ]
     },
     "metadata": {},
     "output_type": "display_data"
    },
    {
     "data": {
      "text/latex": [
       "$\\displaystyle  \\phi_2 = c_{12} \\chi_1 + c_{22} \\chi_2 $"
      ],
      "text/plain": [
       "<IPython.core.display.Math object>"
      ]
     },
     "metadata": {},
     "output_type": "display_data"
    },
    {
     "data": {
      "text/latex": [
       "$\\displaystyle c11 = -0.8421342927 \\quad c21 = -0.1826960486 $"
      ],
      "text/plain": [
       "<IPython.core.display.Math object>"
      ]
     },
     "metadata": {},
     "output_type": "display_data"
    },
    {
     "data": {
      "text/latex": [
       "$\\displaystyle c12 = -1.6196221466 \\quad c22 = 1.8163117043 $"
      ],
      "text/plain": [
       "<IPython.core.display.Math object>"
      ]
     },
     "metadata": {},
     "output_type": "display_data"
    },
    {
     "data": {
      "image/png": "[encoded data removed]",
      "text/plain": [
       "<Figure size 432x288 with 1 Axes>"
      ]
     },
     "metadata": {
      "needs_background": "light"
     },
     "output_type": "display_data"
    },
    {
     "name": "stdout",
     "output_type": "stream",
     "text": [
      "Energías de cada electrón\n"
     ]
    },
    {
     "data": {
      "text/latex": [
       "$\\displaystyle  \\epsilon_1  = -0.9183323026 $"
      ],
      "text/plain": [
       "<IPython.core.display.Math object>"
      ]
     },
     "metadata": {},
     "output_type": "display_data"
    },
    {
     "data": {
      "text/latex": [
       "$\\displaystyle  \\epsilon_2  = 2.8104215267 $"
      ],
      "text/plain": [
       "<IPython.core.display.Math object>"
      ]
     },
     "metadata": {},
     "output_type": "display_data"
    },
    {
     "name": "stdout",
     "output_type": "stream",
     "text": [
      "Energía total del átomo\n"
     ]
    },
    {
     "data": {
      "text/latex": [
       "$\\displaystyle E_0 = -2.8616695479 \\ E_h = -77.8688900681 \\ eV$"
      ],
      "text/plain": [
       "<IPython.core.display.Math object>"
      ]
     },
     "metadata": {},
     "output_type": "display_data"
    },
    {
     "name": "stdout",
     "output_type": "stream",
     "text": [
      "-------------------------------------------------- Iteración # 10 --------------------------------------------------\n"
     ]
    },
    {
     "data": {
      "text/latex": [
       "$\\displaystyle \\zeta_1 = 1.450 \\quad \\zeta_2 = 2.910$"
      ],
      "text/plain": [
       "<IPython.core.display.Math object>"
      ]
     },
     "metadata": {},
     "output_type": "display_data"
    },
    {
     "name": "stdout",
     "output_type": "stream",
     "text": [
      "Función de onda aproximada\n"
     ]
    },
    {
     "data": {
      "text/latex": [
       "$\\displaystyle  \\phi_1 = c_{11} \\chi_1 + c_{21} \\chi_2 $"
      ],
      "text/plain": [
       "<IPython.core.display.Math object>"
      ]
     },
     "metadata": {},
     "output_type": "display_data"
    },
    {
     "data": {
      "text/latex": [
       "$\\displaystyle  \\phi_2 = c_{12} \\chi_1 + c_{22} \\chi_2 $"
      ],
      "text/plain": [
       "<IPython.core.display.Math object>"
      ]
     },
     "metadata": {},
     "output_type": "display_data"
    },
    {
     "data": {
      "text/latex": [
       "$\\displaystyle c11 = -0.8421342927 \\quad c21 = -0.1826960486 $"
      ],
      "text/plain": [
       "<IPython.core.display.Math object>"
      ]
     },
     "metadata": {},
     "output_type": "display_data"
    },
    {
     "data": {
      "text/latex": [
       "$\\displaystyle c12 = -1.6196221466 \\quad c22 = 1.8163117043 $"
      ],
      "text/plain": [
       "<IPython.core.display.Math object>"
      ]
     },
     "metadata": {},
     "output_type": "display_data"
    },
    {
     "data": {
      "image/png": "[encoded data removed]",
      "text/plain": [
       "<Figure size 432x288 with 1 Axes>"
      ]
     },
     "metadata": {
      "needs_background": "light"
     },
     "output_type": "display_data"
    },
    {
     "name": "stdout",
     "output_type": "stream",
     "text": [
      "Energías de cada electrón\n"
     ]
    },
    {
     "data": {
      "text/latex": [
       "$\\displaystyle  \\epsilon_1  = -0.9183323026 $"
      ],
      "text/plain": [
       "<IPython.core.display.Math object>"
      ]
     },
     "metadata": {},
     "output_type": "display_data"
    },
    {
     "data": {
      "text/latex": [
       "$\\displaystyle  \\epsilon_2  = 2.8104215266 $"
      ],
      "text/plain": [
       "<IPython.core.display.Math object>"
      ]
     },
     "metadata": {},
     "output_type": "display_data"
    },
    {
     "name": "stdout",
     "output_type": "stream",
     "text": [
      "Energía total del átomo\n"
     ]
    },
    {
     "data": {
      "text/latex": [
       "$\\displaystyle E_0 = -2.8616695479 \\ E_h = -77.8688900692 \\ eV$"
      ],
      "text/plain": [
       "<IPython.core.display.Math object>"
      ]
     },
     "metadata": {},
     "output_type": "display_data"
    }
   ],
   "source": [
    "# Valores iniciales de las zetas y n=1\n",
    "zetas = [[1.45, 1], [2.91, 1]]\n",
    "# Número atomico del Helio\n",
    "Z = 2\n",
    "\n",
    "# Funciones orbitales\n",
    "f1=STO(zetas[0][0], zetas[0][1])\n",
    "f2=STO(zetas[1][0], zetas[1][1])\n",
    "fs = [f1, f2]\n",
    "\n",
    "# Caso base (primera aproximación) ##############################################################################\n",
    "R = np.zeros((len(zetas), len(zetas), len(zetas), len(zetas)))\n",
    "H = H_mat(fs, Z)\n",
    "S = S_mat(fs)\n",
    "e, C = secular(H, S)\n",
    "P = P_mat(C)\n",
    "E0 = E_HF(e, P, H)\n",
    "\n",
    "print('-'*40, \"Aproximación inicial\", '-'*40)\n",
    "print('Función Orbital')\n",
    "display(Math('\\chi_i = 2(\\zeta_i)^{3/2} e^{-r \\zeta_i} ')) \n",
    "display(Math('\\zeta_1 = {0} \\quad \\zeta_2 = {1}'.format(format(zetas[0][0], '0.3f'), format(zetas[1][0], '0.3f'), ))) \n",
    "print('Función de onda aproximada')\n",
    "display(Math(' \\phi_1 = c_{11} \\chi_1 + c_{21} \\chi_2 '))\n",
    "display(Math(' \\phi_2 = c_{12} \\chi_1 + c_{22} \\chi_2 '))    \n",
    "display(Math('c11 = {0} \\quad c21 = {1} '.format(format(C[0][0], '0.10f'), format(C[1][0], '0.10f')))) \n",
    "display(Math('c12 = {0} \\quad c22 = {1} '.format(format(C[0][1], '0.10f'), format(C[1][1], '0.10f'))))  \n",
    "\n",
    "# Estimación de la energía\n",
    "print('Energías de cada electrón')\n",
    "display(Math(' \\epsilon_1 = {0} '.format(format(e[0].real, '0.10f'))))    \n",
    "display(Math(' \\epsilon_2 = {0} '.format(format(e[1].real, '0.10f')))) \n",
    "print('Energía total del átomo')\n",
    "display(Math(' E_0 = {0} \\ E_h = {1} \\ eV'.format(format(E0, '0.10f'), format(E0*27.211, '0.10f'))))  \n",
    "\n",
    "# Proceso iterativo ##############################################################################################\n",
    "M=10 #Numero de iteraciones\n",
    "for i in range(M):\n",
    "    print('-'*50, \"Iteración #\", i + 1, '-'*50)\n",
    "    if(i==0):\n",
    "        R = R_mat(zetas)\n",
    "    else:\n",
    "        F = F_mat(fs, Z, zetas, C, R)\n",
    "        S = S_mat(fs)\n",
    "        e, C = secular(F, S)\n",
    "        P = P_mat(C)\n",
    "        E0 = E_HF(e, P, H)\n",
    "\n",
    "    display(Math('\\zeta_1 = {0} \\quad \\zeta_2 = {1}'.format(format(zetas[0][0], '0.3f'), format(zetas[1][0], '0.3f'), ))) \n",
    "    print('Función de onda aproximada') \n",
    "    display(Math(' \\phi_1 = c_{11} \\chi_1 + c_{21} \\chi_2 '))\n",
    "    display(Math(' \\phi_2 = c_{12} \\chi_1 + c_{22} \\chi_2 '))    \n",
    "    display(Math('c11 = {0} \\quad c21 = {1} '.format(format(C[0][0], '0.10f'), format(C[1][0], '0.10f')))) \n",
    "    display(Math('c12 = {0} \\quad c22 = {1} '.format(format(C[0][1], '0.10f'), format(C[1][1], '0.10f')))) \n",
    "    \n",
    "    #Gráfica de densidad de probabilidad\n",
    "    phi1 = C[0,0]*f1+C[1,0]*f2\n",
    "    phi2 = C[0,1]*f1+C[1,1]*f2\n",
    "    dens1 = phi1*phi1*r*r\n",
    "    dens2 = phi2*phi2*r*r    \n",
    "    p1=plot((dens1, (r, 0, 5)), (dens2, (r, 0, 5)), show=False, legend = True, xlabel='$r e-11\\, [m]$', ylabel='$|\\phi_i(r_i)|^2$', title='Densidad en las posiciones de cada electrón')\n",
    "    p1[0].label = 'Electrón 1 ($\\phi_1$)'\n",
    "    p1[1].label = 'Electrón 2 ($\\phi_2$)'     \n",
    "    p1[0].line_color = 'darkgreen'\n",
    "    p1[1].line_color = 'midnightblue'\n",
    "    p1.show() \n",
    "    \n",
    "    #Energías\n",
    "    print('Energías de cada electrón')\n",
    "    display(Math(' \\epsilon_1  = {0} '.format(format(e[0].real, '0.10f'))))    \n",
    "    display(Math(' \\epsilon_2  = {0} '.format(format(e[1].real, '0.10f'))))     \n",
    "    print('Energía total del átomo')\n",
    "    display(Math('E_0 = {0} \\ E_h = {1} \\ eV'.format(format(E0, '0.10f'), format(E0*27.211, '0.10f'))))      \n",
    "    "
   ]
  },
  {
   "cell_type": "markdown",
   "id": "2215acf7",
   "metadata": {},
   "source": [
    "Los valores experimentales de esta energía rondan los $-2.9\\; E_h \\sim -79\\; eV$, donde\n",
    "$$E_h=\\frac{\\hbar c\\alpha}{a_0}$$"
   ]
  },
  {
   "cell_type": "code",
   "execution_count": null,
   "id": "a6e56b43",
   "metadata": {},
   "outputs": [],
   "source": []
  }
 ],
 "metadata": {
  "kernelspec": {
   "display_name": "Python 3",
   "language": "python",
   "name": "python3"
  },
  "language_info": {
   "codemirror_mode": {
    "name": "ipython",
    "version": 3
   },
   "file_extension": ".py",
   "mimetype": "text/x-python",
   "name": "python",
   "nbconvert_exporter": "python",
   "pygments_lexer": "ipython3",
   "version": "3.8.8"
  }
 },
 "nbformat": 4,
 "nbformat_minor": 5
}
