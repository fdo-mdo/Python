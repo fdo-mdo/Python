{
  "cells": [
    {
      "cell_type": "markdown",
      "metadata": {
        "id": "xff0YS7jHh2L"
      },
      "source": [
        "# **Tarea extra** \n",
        "# **Machine Learning para físicos**"
      ]
    },
    {
      "cell_type": "markdown",
      "metadata": {
        "id": "z43ERXFdHh2P"
      },
      "source": [
        "Vamos a desarrollar una red neuronal artificial desde cero utilizando Numpy. Vamos a programar el modelo más básico de todas las ANN: una feed-forward network. \n",
        "\n",
        "Glosario de términos\n",
        "\n",
        "X = inputs\n",
        "\n",
        "y = labels\n",
        "\n",
        "W = weights\n",
        "\n",
        "b = bias\n",
        "\n",
        "Z = producto punto entre X y W más b\n",
        "\n",
        "A = activation(Z)\n",
        "\n",
        "k = Número de clases\n",
        "\n",
        "Las letras minúsculas denotan vectores, las letras mayúsculas denotan matrices\n",
        "\n",
        "# Arquitectura\n",
        "\n",
        "## Forward Pass\n",
        "\n",
        "### El producto punto \n",
        "\n",
        "Primero, calculamos el producto punto de nuestras entradas y pesos y agregamos un término de sesgo.\n",
        "\n",
        "$$Z=\\sum_{i=1}^{n}\\left(Xi * W_i \\right)+b$$\n",
        "\n",
        "En segundo lugar, pasamos la suma ponderada obtenida a través de una función de activación. Estos cálculos tienen lugar en cada neurona en cada capa oculta.\n",
        "\n",
        "$$A = \\sigma(Z)= \\sigma \\left( \\sum_{i=1}^{n}\\left[X_i*W_i\\right] +b\\right)$$"
      ]
    },
    {
      "cell_type": "markdown",
      "metadata": {
        "id": "Yizj2Nx0Hh2V"
      },
      "source": [
        "\n",
        "### Funciones de activación comúnmente utilizadas:\n",
        "\n",
        "En el código vamos a usar la función de activación ReLU en las capas ocultas porque es fácil de diferenciar, y la función de activación Softmax en la capa de salida\n",
        "\n",
        "Sigmoide\n",
        "$$f(z) = \\frac{1}{1+e^{-z}}$$\n",
        "\n",
        "Tanh    \n",
        "$$f(z)=  \\frac{e^{z}-e^{-z}}{e^z+e^{-z}} $$\n",
        "\n",
        "ReLu \n",
        "$$f(z)=\\left(z, z\\geq 0, 0~en~otro~caso \\right)$$\n",
        "\n",
        "## Backward Pass\n",
        "\n",
        "### La función de pérdida. \n",
        "\n",
        "Comenzamos calculando la pérdida, también conocida como el error. Esta es una medida de cuán incorrecto es un modelo. Entrenamos el modelo para minimizar la función de pérdida. La función de pérdida a emplear depende de la tarea que se quiera realizar. En este notebook vamos a usar la entropía cruzada categórica porque se realizará una tarea de clasificación múltiple. Para una tarea de clasificación binaria, es posible la entropía cruzada binaria y, para una tarea de regresión, se puede usar el error cuadrático medio.\n",
        "\n",
        "Entropía cruzada categórica\n",
        "$$L = -\\frac{1}{m} \\sum_{i=1}^{m} y_i \\cdot log(\\hat{y}_i) ...(1)$$\n",
        "\n",
        "La fórmula anterior implica que las etiquetas están en one-hot encoding. Keras espera que las etiquetas estén en one-hot encoding. Sin embargo, la implementación aquí realizada no lo hace. \n",
        "\n",
        "Tenemos los siguientes datos de una sola muestra, las etiquetas están en one-hot encoding ($y$) y la predicción del modelo es ($\\hat{y}$)"
      ]
    },
    {
      "cell_type": "code",
      "execution_count": null,
      "metadata": {
        "id": "NbEwf_eDHh2X"
      },
      "outputs": [],
      "source": [
        "y = [1, 0, 0]\n",
        "ŷ = [3.01929735e-07, 7.83961013e-09, 9.99999690e-01]"
      ]
    },
    {
      "cell_type": "markdown",
      "metadata": {
        "id": "zokzx129Hh2Z"
      },
      "source": [
        "**EJEMPLO**: Calcula la entropía cruzada del paso anterior usando la ecuación (1). Después calcula -log($\\hat{y}[0]$)"
      ]
    },
    {
      "cell_type": "code",
      "execution_count": null,
      "metadata": {
        "colab": {
          "base_uri": "https://localhost:8080/"
        },
        "id": "OaxHh7eEHh2Z",
        "outputId": "4f4a8a95-4247-4edd-d1eb-0cb0c8197f21"
      },
      "outputs": [
        {
          "name": "stdout",
          "output_type": "stream",
          "text": [
            "15.013071512205286\n",
            "15.013071512205286\n"
          ]
        }
      ],
      "source": [
        "import numpy as np\n",
        "loss = 0\n",
        "for i in range(0,len(ŷ)):\n",
        "    loss += -np.log(ŷ[i])*y[i]\n",
        "print(loss)\n",
        "print(-np.log(ŷ[0]))"
      ]
    },
    {
      "cell_type": "markdown",
      "metadata": {
        "id": "JL0NKaycHh2b"
      },
      "source": [
        "Como puedes ver, la clase correcta en esta muestra era cero, indicada por un uno en el índice cero de la matriz $y$. Multiplicamos el logaritmo negativo de nuestra probabilidad de salida por la etiqueta correspondiente para esa clase y sumamos todas las clases. A lo que esto se reduce simplemente al logaritmo negativo de nuestra probabilidad en el índice correspondiente para la clase correcta. \n",
        "\n",
        "La pérdida total es el promedio de todas las muestras, indicada por $m$ en la ecuación. Para obtener esta cifra, repetimos el cálculo anterior para cada muestra, calculamos la suma y dividimos por el número total de muestras.\n",
        "\n",
        "### Descenso de gradiente estocástico\n",
        "\n",
        "Ahora que hemos calculado la pérdida, es hora de minimizarla. Comenzamos calculando el gradiente de nuestras probabilidades de salida con respecto a los parámetros de entrada y retropropagamos (backpropagate) los gradientes a los parámetros en cada capa.\n",
        "\n",
        "En cada capa, realizamos cálculos similares al pase hacia adelante, excepto que en lugar de realizar los cálculos solo para $Z$ y $A$, tenemos que ejecutar un cálculo para cada parámetro ($dZ$, $dW$, $db$, $dA$), como se muestra a continuación.\n",
        "\n",
        "Capa oculta\n",
        "\n",
        "$$\\partial Z^{[L]} = \\partial A^{[L]}*g'(Z)^{[L]}$$\n",
        "\n",
        "$$\\partial W^{[L]} = \\partial A^{[L-1]}_T*\\partial Z^{[L]}$$\n",
        "\n",
        "$$\\partial b^{[L]}= \\sum_{i}^{m} \\partial Z^{[L](i)}$$\n",
        "\n",
        "$$\\partial A^{[L-1]}= \\partial Z^{[L]} \\cdot W^{[L]}$$\n",
        "\n",
        "# Implementación NumPy\n",
        "\n",
        "Usaremos el conjunto de datos de iris para este modelo."
      ]
    },
    {
      "cell_type": "markdown",
      "metadata": {
        "id": "iC_PJaj5Hh2c"
      },
      "source": [
        "**EJEMPLO:** Importa el conjunto de datos \"iris.csv\". Asigna a una variable \"X\" las características y a una variable \"y\" las etiquetas usando la función LabelEncoder de sklearn."
      ]
    },
    {
      "cell_type": "code",
      "execution_count": null,
      "metadata": {
        "id": "XXwBGJvjHh2e"
      },
      "outputs": [],
      "source": [
        "import numpy as np, pandas as pd, matplotlib.pyplot as plt\n",
        "from sklearn.preprocessing import LabelEncoder\n",
        "def get_data(path):\n",
        "    data = pd.read_csv(path, index_col=0)\n",
        "    cols = list(data.columns)\n",
        "    target = cols.pop()\n",
        "    X = data[cols].copy()\n",
        "    y = data[target].copy()\n",
        "    y = LabelEncoder().fit_transform(y)\n",
        "    return np.array(X), np.array(y)\n",
        "X, y = get_data(\"iris.csv\")"
      ]
    },
    {
      "cell_type": "code",
      "execution_count": null,
      "metadata": {
        "colab": {
          "base_uri": "https://localhost:8080/"
        },
        "id": "S9sblOlvmvn1",
        "outputId": "003cd996-1706-46ca-96e8-b5eb21591be4"
      },
      "outputs": [
        {
          "name": "stdout",
          "output_type": "stream",
          "text": [
            "Mounted at /content/drive\n"
          ]
        }
      ],
      "source": [
        "from google.colab import drive\n",
        "drive.mount('/content/drive')"
      ]
    },
    {
      "cell_type": "markdown",
      "metadata": {
        "id": "_6gIFAuBHh2g"
      },
      "source": [
        "# Inicializar capas"
      ]
    },
    {
      "cell_type": "code",
      "execution_count": null,
      "metadata": {
        "id": "8Y0FGoNkHh2h"
      },
      "outputs": [],
      "source": [
        "class DenseLayer:\n",
        "    def __init__(self, neurons):\n",
        "        self.neurons = neurons   \n",
        "    def relu(self, inputs):\n",
        "        \"\"\"\n",
        "        ReLU Activation Function\n",
        "        \"\"\"\n",
        "        return np.maximum(0, inputs)\n",
        "    def softmax(self, inputs):\n",
        "        \"\"\"\n",
        "        Softmax Activation Function\n",
        "        \"\"\"\n",
        "        exp_scores = np.exp(inputs)\n",
        "        probs = exp_scores / np.sum(exp_scores, axis=1, keepdims=True)\n",
        "        return probs\n",
        "    def relu_derivative(self, dA, Z):\n",
        "        \"\"\"\n",
        "        ReLU Derivative Function\n",
        "        \"\"\"\n",
        "        dZ = np.array(dA, copy = True)\n",
        "        dZ[Z <= 0] = 0\n",
        "        return dZ\n",
        "    def forward(self, inputs, weights, bias, activation):\n",
        "        \"\"\"\n",
        "        Single Layer Forward Propagation\n",
        "        \"\"\"\n",
        "        Z_curr = np.dot(inputs, weights.T) + bias\n",
        "\n",
        "        if activation == 'relu':\n",
        "          A_curr = self.relu(inputs=Z_curr)\n",
        "        elif activation == 'softmax':\n",
        "          A_curr = self.softmax(inputs=Z_curr)\n",
        "\n",
        "        return A_curr, Z_curr\n",
        "    def backward(self, dA_curr, W_curr, Z_curr, A_prev, activation):\n",
        "        \"\"\"\n",
        "        Single Layer Backward Propagation\n",
        "        \"\"\"\n",
        "        if activation == 'softmax':\n",
        "          dW = np.dot(A_prev.T, dA_curr)\n",
        "          db = np.sum(dA_curr, axis=0, keepdims=True)\n",
        "          dA = np.dot(dA_curr, W_curr) \n",
        "        else:\n",
        "          dZ = self.relu_derivative(dA_curr, Z_curr)\n",
        "          dW = np.dot(A_prev.T, dZ)\n",
        "          db = np.sum(dZ, axis=0, keepdims=True)\n",
        "          dA = np.dot(dZ, W_curr)\n",
        "        return dA, dW, db"
      ]
    },
    {
      "cell_type": "markdown",
      "metadata": {
        "id": "ajWIrFldHh2k"
      },
      "source": [
        "# Inicializar red"
      ]
    },
    {
      "cell_type": "code",
      "execution_count": null,
      "metadata": {
        "id": "gcCqt1315dpa"
      },
      "outputs": [],
      "source": [
        "class Network:\n",
        "    def __init__(self):\n",
        "        self.network = [] ## layers\n",
        "        self.architecture = [] ## mapping input neurons --> output neurons\n",
        "        self.params = [] ## W, b\n",
        "        self.memory = [] ## Z, A\n",
        "        self.gradients = [] ## dW, db\n",
        "        \n",
        "    def add(self, layer):\n",
        "        self.network.append(layer)\n",
        "            \n",
        "    def _compile(self, data):\n",
        "        for idx, layer in enumerate(self.network):\n",
        "            if idx == 0:\n",
        "                self.architecture.append({'input_dim':data.shape[1], 'output_dim':self.network[idx].neurons,\n",
        "                                         'activation':'relu'})\n",
        "            elif idx > 0 and idx < len(self.network)-1:\n",
        "                self.architecture.append({'input_dim':self.network[idx-1].neurons, 'output_dim':self.network[idx].neurons,\n",
        "                                         'activation':'relu'})\n",
        "            else:\n",
        "                self.architecture.append({'input_dim':self.network[idx-1].neurons, 'output_dim':self.network[idx].neurons,\n",
        "                                         'activation':'softmax'})\n",
        "        return self\n",
        "    \n",
        "    def _init_weights(self, data):\n",
        "        self._compile(data)\n",
        "        \n",
        "        np.random.seed(99)\n",
        "        \n",
        "        for i in range(len(self.architecture)):\n",
        "            self.params.append({\n",
        "                'W':np.random.uniform(low=-1, high=1, \n",
        "                  size=(self.architecture[i]['output_dim'], \n",
        "                        self.architecture[i]['input_dim'])),\n",
        "                'b':np.zeros((1, self.architecture[i]['output_dim']))})\n",
        "        \n",
        "        return self\n",
        "    \n",
        "    def _forwardprop(self, data):\n",
        "        A_curr = data\n",
        "        \n",
        "        for i in range(len(self.params)):\n",
        "            A_prev = A_curr\n",
        "            A_curr, Z_curr = self.network[i].forward(inputs=A_prev, weights=self.params[i]['W'], \n",
        "                                           bias=self.params[i]['b'], activation=self.architecture[i]['activation'])\n",
        "            \n",
        "            self.memory.append({'inputs':A_prev, 'Z':Z_curr})\n",
        "            \n",
        "        return A_curr\n",
        "    \n",
        "    def _backprop(self, predicted, actual):\n",
        "        num_samples = len(actual)\n",
        "        \n",
        "        ## compute the gradient on predictions\n",
        "        dscores = predicted\n",
        "        dscores[range(num_samples),actual] -= 1\n",
        "        dscores /= num_samples\n",
        "        \n",
        "        dA_prev = dscores\n",
        "        \n",
        "        for idx, layer in reversed(list(enumerate(self.network))):\n",
        "            dA_curr = dA_prev\n",
        "            \n",
        "            A_prev = self.memory[idx]['inputs']\n",
        "            Z_curr = self.memory[idx]['Z']\n",
        "            W_curr = self.params[idx]['W']\n",
        "            \n",
        "            activation = self.architecture[idx]['activation']\n",
        "\n",
        "            dA_prev, dW_curr, db_curr = layer.backward(dA_curr, W_curr, Z_curr, A_prev, activation)\n",
        "\n",
        "            self.gradients.append({'dW':dW_curr, 'db':db_curr})\n",
        "            \n",
        "    def _update(self, lr=0.01):\n",
        "        for idx, layer in enumerate(self.network):\n",
        "            self.params[idx]['W'] -= lr * list(reversed(self.gradients))[idx]['dW'].T  \n",
        "            self.params[idx]['b'] -= lr * list(reversed(self.gradients))[idx]['db']\n",
        "    \n",
        "    def _get_accuracy(self, predicted, actual):\n",
        "        return np.mean(np.argmax(predicted, axis=1)==actual)\n",
        "    \n",
        "    def _calculate_loss(self, predicted, actual):\n",
        "        samples = len(actual)\n",
        "        \n",
        "        correct_logprobs = -np.log(predicted[range(samples),actual])\n",
        "        data_loss = np.sum(correct_logprobs)/samples\n",
        "\n",
        "        return data_loss\n",
        "    \n",
        "    def train(self, X_train, y_train, epochs):\n",
        "        self.loss = []\n",
        "        self.accuracy = []\n",
        "        \n",
        "        self._init_weights(X_train)\n",
        "        \n",
        "        for i in range(epochs):\n",
        "            yhat = self._forwardprop(X_train)\n",
        "            self.accuracy.append(self._get_accuracy(predicted=yhat, actual=y_train))\n",
        "            self.loss.append(self._calculate_loss(predicted=yhat, actual=y_train))\n",
        "            \n",
        "            self._backprop(predicted=yhat, actual=y_train)\n",
        "            \n",
        "            self._update()\n",
        "            \n",
        "            if i % 20 == 0:\n",
        "                s = 'EPOCH: {}, ACCURACY: {}, LOSS: {}'.format(i, self.accuracy[-1], self.loss[-1])\n",
        "                print(s)"
      ]
    },
    {
      "cell_type": "markdown",
      "metadata": {
        "id": "241Bzjg8Tab1"
      },
      "source": [
        "# Network — The Forward Pass\n",
        "\n"
      ]
    },
    {
      "cell_type": "markdown",
      "metadata": {
        "id": "P7Ff9g61TjKt"
      },
      "source": [
        "### Arquitectura\n",
        "\n",
        "Comencemos inicializando dinámicamente la arquitectura de red. Esto significa que podemos inicializar nuestra arquitectura de red para un número arbitrario de capas y neuronas.\n",
        "\n",
        "  def _compile(self, data):\n",
        "\n",
        "Comenzamos creando una matriz que mapea nuestra dimensionalidad (n.º de características) con el número de neuronas en la capa de entrada. A partir de ahí, es bastante sencillo: la dimensión de entrada de una nueva capa es la cantidad de neuronas en la capa anterior, la dimensión de salida es la cantidad de neuronas en la capa actual."
      ]
    },
    {
      "cell_type": "markdown",
      "metadata": {
        "id": "Wg7Jc2h_Pk-J"
      },
      "source": [
        "**EJEMPLO:** Crear una red con tres capas ocultas, la primera con 6 nodos, la segunda con 8 y la última con 10. Emplear la función ._compile(X) e imprimir la arquitectura de la red. "
      ]
    },
    {
      "cell_type": "code",
      "execution_count": null,
      "metadata": {
        "colab": {
          "base_uri": "https://localhost:8080/"
        },
        "id": "rFX1ZG_QXYxP",
        "outputId": "83d954a6-4f16-4b36-d07f-e9fd3a8171e0"
      },
      "outputs": [
        {
          "name": "stdout",
          "output_type": "stream",
          "text": [
            "[{'input_dim': 4, 'output_dim': 6, 'activation': 'relu'}, {'input_dim': 6, 'output_dim': 8, 'activation': 'relu'}, {'input_dim': 8, 'output_dim': 10, 'activation': 'relu'}, {'input_dim': 10, 'output_dim': 3, 'activation': 'softmax'}]\n"
          ]
        }
      ],
      "source": [
        "model = Network()\n",
        "model.add(DenseLayer(6))\n",
        "model.add(DenseLayer(8))\n",
        "model.add(DenseLayer(10))\n",
        "model.add(DenseLayer(3))\n",
        "model._compile(X)\n",
        "print(model.architecture)"
      ]
    },
    {
      "cell_type": "markdown",
      "metadata": {
        "id": "ql_mvvWEYJn-"
      },
      "source": [
        "### Parámetros\n",
        "\n",
        "Ahora que hemos creado una red, necesitamos una vez más inicializar dinámicamente nuestros parámetros entrenables (W, b), para un número arbitrario de capas/neuronas (_init_weights(self, data)). \n",
        "\n",
        "Como pueden ver, estamos creando una matriz de peso en cada capa.\n",
        "\n",
        "Esta matriz contiene un vector para cada neurona y una dimensión para cada característica de entrada.\n",
        "\n",
        "Hay un vector de sesgo con una dimensión para cada neurona en una capa.\n",
        "\n",
        "También observemos que estamos configurando un np.random.seed(), para obtener resultados consistentes cada vez. Intenten comentar esta línea de código para ver cómo afecta sus resultados.\n",
        "\n"
      ]
    },
    {
      "cell_type": "markdown",
      "metadata": {
        "id": "WWQGk_xOYrf5"
      },
      "source": [
        "**EJEMPLO:** Con la red neuronal creada con anterioridad, emplear la función _init_weights() e imprimir las dimensiones de $W$ y $b$ en cada capa. "
      ]
    },
    {
      "cell_type": "code",
      "execution_count": null,
      "metadata": {
        "colab": {
          "base_uri": "https://localhost:8080/"
        },
        "id": "1JV-VV-IYrxE",
        "outputId": "8948ab97-5c98-4167-af3c-8ef0aa623dc9"
      },
      "outputs": [
        {
          "name": "stdout",
          "output_type": "stream",
          "text": [
            "(6, 4) (1, 6)\n",
            "(8, 6) (1, 8)\n",
            "(10, 8) (1, 10)\n",
            "(3, 10) (1, 3)\n"
          ]
        }
      ],
      "source": [
        "model = Network()\n",
        "model.add(DenseLayer(6))\n",
        "model.add(DenseLayer(8))\n",
        "model.add(DenseLayer(10))\n",
        "model.add(DenseLayer(3))\n",
        "model._init_weights(X)\n",
        "print(model.params[0]['W'].shape, model.params[0]['b'].shape)\n",
        "print(model.params[1]['W'].shape, model.params[1]['b'].shape)\n",
        "print(model.params[2]['W'].shape, model.params[2]['b'].shape)\n",
        "print(model.params[3]['W'].shape, model.params[3]['b'].shape)"
      ]
    },
    {
      "cell_type": "markdown",
      "metadata": {
        "id": "rdJMoo9HZL95"
      },
      "source": [
        "### Propagación hacia adelante (Forward Propagation)\n",
        "\n",
        "La función que realiza un paso de avance completo a través de la red:\n",
        "\n",
        "  _forwardprop(self, data)\n",
        "\n",
        "Estamos pasando la salida de la capa anterior como entrada a la siguiente, denotada por A_prev.\n",
        "\n",
        "Estamos almacenando las entradas y la suma ponderada en la memoria del modelo. Esto es necesario para realizar el pase hacia atrás."
      ]
    },
    {
      "cell_type": "markdown",
      "metadata": {
        "id": "3QWPh0jlZlds"
      },
      "source": [
        "# Capas: el pase hacia adelante (Forward Pass)"
      ]
    },
    {
      "cell_type": "markdown",
      "metadata": {
        "id": "SP8VpHVTaWa2"
      },
      "source": [
        "### Funciones de activación\n",
        "\n",
        "ReLU\n",
        "\n",
        "Es la que usamos en las capas ocultas. Esto es lo que sucede cuando llamamos a np.maximum().\n",
        "\n",
        "  if input > 0:\n",
        "\n",
        "    return input\n",
        "  \n",
        "  else:\n",
        "  \n",
        "    return 0\n",
        "\n",
        "softmax\n",
        "\n",
        "Utilizado en la capa final. Esta función toma un vector de entrada de k valores reales y lo convierte en un vector de k probabilidades que suman uno.\n",
        "\n",
        "$$\\sigma(\\vec{z})_i = \\frac{e^{z_i}}{\\sum_{j=1}^{K}e^{z_j}}$$"
      ]
    },
    {
      "cell_type": "markdown",
      "metadata": {
        "id": "k5CsgBdnZnl8"
      },
      "source": [
        "### Propagación directa de una sola capa (Single Layer Forward Propagation)\n",
        "\n",
        "  forward(self, inputs, weights, bias, activation)\n",
        "\n",
        "Dónde:\n",
        "\n",
        "     inputs = A_prev\n",
        "     weights = matriz de peso de la capa actual\n",
        "     bias = vector de sesgo de la capa actual\n",
        "     activación = función de activación de la capa actual\n",
        "\n",
        "Llamamos a esta función en el método _forwardprop de la red y pasamos los parámetros de la red como entrada."
      ]
    },
    {
      "cell_type": "markdown",
      "metadata": {
        "id": "a9l4JfvXbLWw"
      },
      "source": [
        "### Realizar un Forward Pass"
      ]
    },
    {
      "cell_type": "markdown",
      "metadata": {
        "id": "s1uBISatbRmJ"
      },
      "source": [
        "**EJEMPLO:** Con la red neuronal anterior, empleaR la función forwardprop() para realizar un paso hacia adelante. Imprimir las dimensiones de salida, las probabilidades del primer elemento de salida y compruebar que la suma es 1. "
      ]
    },
    {
      "cell_type": "code",
      "execution_count": null,
      "metadata": {
        "colab": {
          "base_uri": "https://localhost:8080/"
        },
        "id": "VEOd2BSMZLQ5",
        "outputId": "9bf3a390-c162-4a20-ebe0-255a14d32be5"
      },
      "outputs": [
        {
          "name": "stdout",
          "output_type": "stream",
          "text": [
            "SHAPE: (150, 3)\n",
            "Probabilties at idx 0: [9.99998315e-01 1.07470169e-06 6.10266912e-07]\n",
            "SUM: 1.0\n"
          ]
        }
      ],
      "source": [
        "model = Network()\n",
        "model.add(DenseLayer(6))\n",
        "model.add(DenseLayer(8))\n",
        "model.add(DenseLayer(10))\n",
        "model.add(DenseLayer(3))\n",
        "model._init_weights(X)\n",
        "out = model._forwardprop(X)\n",
        "print('SHAPE:', out.shape)\n",
        "print('Probabilties at idx 0:', out[0])\n",
        "print('SUM:', sum(out[0]))"
      ]
    },
    {
      "cell_type": "markdown",
      "metadata": {
        "id": "kAFnTEcdb7lP"
      },
      "source": [
        "Se obtienen 150 instancias asignadas a las 3 clases y una distribución de probabilidad para cada instancia que suma 1."
      ]
    },
    {
      "cell_type": "markdown",
      "metadata": {
        "id": "CHsLjvdncKfk"
      },
      "source": [
        "# El pase hacia atrás (The Backward Pass)\n",
        "\n",
        "### Retropropagación (Backpropagation)\n",
        "\n",
        "La función que realiza un paso hacia atrás completo a través de la red: _backprop(self, predicted, actual). \n",
        "\n",
        "Comenzamos calculando el gradiente de nuestros scores. Denotado por dscores. \n",
        "\n",
        "“deseamos entender cómo deberían cambiar los valores calculados dentro de z para disminuir la pérdida Li que este ejemplo contribuye al objetivo completo. En otras palabras, queremos derivar el gradiente ∂Li/∂zk.\n",
        "\n",
        "La pérdida Li se calcula a partir de p, que a su vez depende de z.\n",
        "\n",
        "$$\\frac{\\partial L_i}{\\partial Z_k} = p_k -1 (y_i=k)$$\n",
        "\n",
        "Donde \n",
        "\n",
        "$$L_i = -log (p_{y_i})$$\n",
        "\n",
        "$$p_k = \\frac{e^{z_k}}{\\sum_{j}^{k} e^{z_j}}$$\n",
        "\n",
        "Ejemplo de muestra única:\n",
        "\n",
        "Para cada muestra encontramos el índice de la clase correcta y restamos uno. Esta es la línea 9 de _backprop(self, predicted, actual). Dado que dscores es una matriz, podemos duplicar el índice utilizando la muestra y la etiqueta de clase correspondiente.\n",
        "\n",
        "Vector de entrada = [9.99998315e-01, 1.07470169e-06, 6.10266912e-07]\n",
        "\n",
        "Vector de salida = [-1.68496861e-06, 1.07470169e-06, 6.10266912e-07]\n",
        "\n",
        "Aquí el índice correcto es cero, por lo que restamos 1 del índice cero.\n",
        "\n",
        "Observen que comenzamos en la capa de salida y pasamos a la capa de entrada."
      ]
    },
    {
      "cell_type": "markdown",
      "metadata": {
        "id": "SLFOZUWOdxLJ"
      },
      "source": [
        "# Capas: el pase hacia atrás\n",
        "### Derivado de activación"
      ]
    },
    {
      "cell_type": "markdown",
      "metadata": {
        "id": "Orwgrmrydzg7"
      },
      "source": [
        "relu_derivative(self, dA, Z)\n",
        "\n",
        "$$\\partial Z^{[L]}= \\partial A^{[L]}*g'(Z^{[L]})$$"
      ]
    },
    {
      "cell_type": "markdown",
      "metadata": {
        "id": "_vhIQjYeeHFH"
      },
      "source": [
        "### Propagación hacia atrás de una sola capa\n",
        "\n",
        "Esta función retropropaga los gradientes a cada parámetro en una capa backward(self, dA_curr, W_curr, Z_curr, A_prev, activation). \n",
        "\n"
      ]
    },
    {
      "cell_type": "markdown",
      "metadata": {
        "id": "Gu7sZLYGeXln"
      },
      "source": [
        "# Realizar pase hacia atrás (Backward Pass)"
      ]
    },
    {
      "cell_type": "markdown",
      "metadata": {
        "id": "6Osb3Z67eYqY"
      },
      "source": [
        "**Ejemplo:** Emplear la red definida con anterioridad, inicializar los pesos, realizar un paso hacia adelante con forwardprop(). Emplear _backprop() para obtener los resultados del paso hacia atrás. Imprimir las dimensiones de $W$ y $dW$ entre cada capa."
      ]
    },
    {
      "cell_type": "code",
      "execution_count": null,
      "metadata": {
        "colab": {
          "base_uri": "https://localhost:8080/"
        },
        "id": "uHfvA0QPeYzf",
        "outputId": "856bb43a-3457-4c34-f784-8ca9017cddb4"
      },
      "outputs": [
        {
          "name": "stdout",
          "output_type": "stream",
          "text": [
            "(10, 3) (3, 10)\n",
            "(8, 10) (10, 8)\n",
            "(6, 8) (8, 6)\n",
            "(4, 6) (6, 4)\n"
          ]
        }
      ],
      "source": [
        "model = Network()\n",
        "model.add(DenseLayer(6))\n",
        "model.add(DenseLayer(8))\n",
        "model.add(DenseLayer(10))\n",
        "model.add(DenseLayer(3))\n",
        "model._init_weights(X)\n",
        "out = model._forwardprop(X)\n",
        "model._backprop(predicted=out, actual=y)\n",
        "print(model.gradients[0]['dW'].shape, model.params[3]['W'].shape)\n",
        "print(model.gradients[1]['dW'].shape, model.params[2]['W'].shape)\n",
        "print(model.gradients[2]['dW'].shape, model.params[1]['W'].shape)\n",
        "print(model.gradients[3]['dW'].shape, model.params[0]['W'].shape)"
      ]
    },
    {
      "cell_type": "markdown",
      "metadata": {
        "id": "BtxZrXw5nniI"
      },
      "source": [
        "los gradientes se calculan a partir de la capa de salida y retroceden hasta la capa de entrada."
      ]
    },
    {
      "cell_type": "markdown",
      "metadata": {
        "id": "k7uqSupjBHW1"
      },
      "source": [
        "### Entrenar al modelo\n",
        "\n",
        "Se realiza una actualización de parámetros después de cada iteración (época). Esto es posible mediante el método `_update.`\n",
        "\n",
        "El método train() junta los métodos _update(), _calculate_loss() y _get_accuracy(). "
      ]
    },
    {
      "cell_type": "markdown",
      "metadata": {
        "id": "PjookiNzoBEU"
      },
      "source": [
        "**Ejercicio:** Con la red definida con anterioridad. Entrenar el modelo con 200 iteraciones. "
      ]
    },
    {
      "cell_type": "code",
      "execution_count": null,
      "metadata": {
        "colab": {
          "base_uri": "https://localhost:8080/"
        },
        "id": "jc2p06jcCPXc",
        "outputId": "1726ef5c-fb7d-40e8-facb-9ba0900846b6"
      },
      "outputs": [
        {
          "name": "stdout",
          "output_type": "stream",
          "text": [
            "EPOCH: 0, ACCURACY: 0.3333333333333333, LOSS: 8.40744717002989\n",
            "EPOCH: 20, ACCURACY: 0.4, LOSS: 0.9215854842299206\n",
            "EPOCH: 40, ACCURACY: 0.43333333333333335, LOSS: 0.7536116948198673\n",
            "EPOCH: 60, ACCURACY: 0.42, LOSS: 0.6714779014672262\n",
            "EPOCH: 80, ACCURACY: 0.41333333333333333, LOSS: 0.6594143979448669\n",
            "EPOCH: 100, ACCURACY: 0.6666666666666666, LOSS: 0.5259943503852045\n",
            "EPOCH: 120, ACCURACY: 0.6666666666666666, LOSS: 0.4706373583820736\n",
            "EPOCH: 140, ACCURACY: 0.6666666666666666, LOSS: 0.5053203560733266\n",
            "EPOCH: 160, ACCURACY: 0.48, LOSS: 1.0150613941350863\n",
            "EPOCH: 180, ACCURACY: 0.8333333333333334, LOSS: 0.460658552975821\n"
          ]
        }
      ],
      "source": [
        "model = Network()\n",
        "model.add(DenseLayer(6))\n",
        "model.add(DenseLayer(8))\n",
        "model.add(DenseLayer(10))\n",
        "model.add(DenseLayer(3))\n",
        "model.train(X, y, 200)"
      ]
    },
    {
      "cell_type": "markdown",
      "metadata": {
        "id": "xnL2QHuMCcnm"
      },
      "source": [
        "### Examinar los resultados\n",
        "Para cada época se guardan los valores correspondientes a la precición (Accuracy) y la pérdida (loss). \n",
        "\n",
        "**EJEMPLO:** ImprimIR las gráficas correspondientes para inferir más sobre el modelo."
      ]
    },
    {
      "cell_type": "code",
      "execution_count": null,
      "metadata": {
        "colab": {
          "base_uri": "https://localhost:8080/",
          "height": 298
        },
        "id": "NafjoTA7CQCN",
        "outputId": "d40fa527-32a4-4227-d65a-cf2094a1fc2d"
      },
      "outputs": [
        {
          "data": {
            "text/plain": [
              "Text(0.5, 1.0, 'Numpy Model Accuracy')"
            ]
          },
          "execution_count": 36,
          "metadata": {},
          "output_type": "execute_result"
        },
        {
          "data": {
            "image/png": "[encoded data removed]",
            "text/plain": [
              "<Figure size 432x288 with 1 Axes>"
            ]
          },
          "metadata": {
            "needs_background": "light"
          },
          "output_type": "display_data"
        }
      ],
      "source": [
        "plt.plot(model.accuracy)\n",
        "plt.title('Numpy Model Accuracy')"
      ]
    },
    {
      "cell_type": "code",
      "execution_count": null,
      "metadata": {
        "colab": {
          "base_uri": "https://localhost:8080/",
          "height": 298
        },
        "id": "UW7WnMehCs1R",
        "outputId": "2cfcbebe-3e22-4665-ecdd-62f899c27849"
      },
      "outputs": [
        {
          "data": {
            "text/plain": [
              "Text(0.5, 1.0, 'Numpy Model Loss')"
            ]
          },
          "execution_count": 37,
          "metadata": {},
          "output_type": "execute_result"
        },
        {
          "data": {
            "image/png": "[encoded data removed]",
            "text/plain": [
              "<Figure size 432x288 with 1 Axes>"
            ]
          },
          "metadata": {
            "needs_background": "light"
          },
          "output_type": "display_data"
        }
      ],
      "source": [
        "plt.plot(model.loss)\n",
        "plt.title('Numpy Model Loss')"
      ]
    },
    {
      "cell_type": "markdown",
      "metadata": {
        "id": "-xC3u9kxDqF8"
      },
      "source": [
        "### Probar con diferentes arquitecturas de red\n",
        "\n",
        "**EJEMPLO:** Probar diferentes arquitecturas para una red ANN y graficar los resultados. "
      ]
    },
    {
      "cell_type": "code",
      "execution_count": null,
      "metadata": {
        "colab": {
          "base_uri": "https://localhost:8080/"
        },
        "id": "OqmiwAsHCwJU",
        "outputId": "e31f090e-6609-4b9e-97fd-dd57ff74476c"
      },
      "outputs": [
        {
          "name": "stdout",
          "output_type": "stream",
          "text": [
            "EPOCH: 0, ACCURACY: 0.3333333333333333, LOSS: 3.9855949144057026\n",
            "EPOCH: 20, ACCURACY: 0.4266666666666667, LOSS: 0.6308065478680575\n",
            "EPOCH: 40, ACCURACY: 0.44666666666666666, LOSS: 0.5999167210329991\n",
            "EPOCH: 60, ACCURACY: 0.4533333333333333, LOSS: 0.5702574248413287\n",
            "EPOCH: 80, ACCURACY: 0.54, LOSS: 0.5396462156531233\n",
            "EPOCH: 100, ACCURACY: 0.62, LOSS: 0.5067118680121276\n",
            "EPOCH: 120, ACCURACY: 0.78, LOSS: 0.47066375648495695\n",
            "EPOCH: 140, ACCURACY: 0.8533333333333334, LOSS: 0.43581286104700195\n",
            "EPOCH: 160, ACCURACY: 0.8933333333333333, LOSS: 0.40474595549017295\n",
            "EPOCH: 180, ACCURACY: 0.94, LOSS: 0.3805415662407408\n"
          ]
        }
      ],
      "source": [
        "model = Network()\n",
        "model.add(DenseLayer(6))\n",
        "model.add(DenseLayer(8))\n",
        "model.add(DenseLayer(3))\n",
        "model.train(X, y, 200)"
      ]
    },
    {
      "cell_type": "code",
      "execution_count": null,
      "metadata": {
        "colab": {
          "base_uri": "https://localhost:8080/",
          "height": 298
        },
        "id": "PU6X3iUED2KZ",
        "outputId": "511b26c7-fe75-4d0f-ca47-f5103e81f8c5"
      },
      "outputs": [
        {
          "data": {
            "text/plain": [
              "Text(0.5, 1.0, 'Numpy Model Accuracy')"
            ]
          },
          "execution_count": 43,
          "metadata": {},
          "output_type": "execute_result"
        },
        {
          "data": {
            "image/png": "[encoded data removed]",
            "text/plain": [
              "<Figure size 432x288 with 1 Axes>"
            ]
          },
          "metadata": {
            "needs_background": "light"
          },
          "output_type": "display_data"
        }
      ],
      "source": [
        "plt.plot(model.accuracy)\n",
        "plt.title('Numpy Model Accuracy')"
      ]
    },
    {
      "cell_type": "code",
      "execution_count": null,
      "metadata": {
        "colab": {
          "base_uri": "https://localhost:8080/",
          "height": 298
        },
        "id": "da5JXNF3D8bB",
        "outputId": "379d24ab-6b3b-489a-823b-3bbecdf3c2ad"
      },
      "outputs": [
        {
          "data": {
            "text/plain": [
              "Text(0.5, 1.0, 'Numpy Model Loss')"
            ]
          },
          "execution_count": 44,
          "metadata": {},
          "output_type": "execute_result"
        },
        {
          "data": {
            "image/png": "[encoded data removed]",
            "text/plain": [
              "<Figure size 432x288 with 1 Axes>"
            ]
          },
          "metadata": {
            "needs_background": "light"
          },
          "output_type": "display_data"
        }
      ],
      "source": [
        "plt.plot(model.loss)\n",
        "plt.title('Numpy Model Loss')"
      ]
    },
    {
      "cell_type": "markdown",
      "metadata": {
        "id": "ecrmfh_zpHxA"
      },
      "source": [
        "# Un modelo equivalente en Keras"
      ]
    },
    {
      "cell_type": "code",
      "execution_count": null,
      "metadata": {
        "colab": {
          "base_uri": "https://localhost:8080/"
        },
        "id": "HAY8AjEKETYY",
        "outputId": "803b8084-ba5b-4c95-c5a2-b31db14ac99d"
      },
      "outputs": [
        {
          "name": "stdout",
          "output_type": "stream",
          "text": [
            "Epoch 1/30\n",
            "5/5 [==============================] - 1s 3ms/step - loss: 1.1060 - accuracy: 0.3333\n",
            "Epoch 2/30\n",
            "5/5 [==============================] - 0s 2ms/step - loss: 1.1028 - accuracy: 0.3333\n",
            "Epoch 3/30\n",
            "5/5 [==============================] - 0s 2ms/step - loss: 1.0994 - accuracy: 0.3333\n",
            "Epoch 4/30\n",
            "5/5 [==============================] - 0s 3ms/step - loss: 1.0958 - accuracy: 0.3467\n",
            "Epoch 5/30\n",
            "5/5 [==============================] - 0s 4ms/step - loss: 1.0918 - accuracy: 0.5067\n",
            "Epoch 6/30\n",
            "5/5 [==============================] - 0s 3ms/step - loss: 1.0877 - accuracy: 0.6133\n",
            "Epoch 7/30\n",
            "5/5 [==============================] - 0s 3ms/step - loss: 1.0831 - accuracy: 0.6333\n",
            "Epoch 8/30\n",
            "5/5 [==============================] - 0s 3ms/step - loss: 1.0771 - accuracy: 0.4667\n",
            "Epoch 9/30\n",
            "5/5 [==============================] - 0s 2ms/step - loss: 1.0715 - accuracy: 0.4133\n",
            "Epoch 10/30\n",
            "5/5 [==============================] - 0s 2ms/step - loss: 1.0665 - accuracy: 0.4000\n",
            "Epoch 11/30\n",
            "5/5 [==============================] - 0s 2ms/step - loss: 1.0623 - accuracy: 0.6267\n",
            "Epoch 12/30\n",
            "5/5 [==============================] - 0s 2ms/step - loss: 1.0577 - accuracy: 0.6667\n",
            "Epoch 13/30\n",
            "5/5 [==============================] - 0s 2ms/step - loss: 1.0541 - accuracy: 0.6667\n",
            "Epoch 14/30\n",
            "5/5 [==============================] - 0s 2ms/step - loss: 1.0502 - accuracy: 0.6667\n",
            "Epoch 15/30\n",
            "5/5 [==============================] - 0s 2ms/step - loss: 1.0464 - accuracy: 0.6667\n",
            "Epoch 16/30\n",
            "5/5 [==============================] - 0s 2ms/step - loss: 1.0427 - accuracy: 0.6667\n",
            "Epoch 17/30\n",
            "5/5 [==============================] - 0s 2ms/step - loss: 1.0390 - accuracy: 0.6667\n",
            "Epoch 18/30\n",
            "5/5 [==============================] - 0s 3ms/step - loss: 1.0356 - accuracy: 0.6667\n",
            "Epoch 19/30\n",
            "5/5 [==============================] - 0s 2ms/step - loss: 1.0322 - accuracy: 0.6667\n",
            "Epoch 20/30\n",
            "5/5 [==============================] - 0s 2ms/step - loss: 1.0291 - accuracy: 0.6667\n",
            "Epoch 21/30\n",
            "5/5 [==============================] - 0s 2ms/step - loss: 1.0255 - accuracy: 0.6667\n",
            "Epoch 22/30\n",
            "5/5 [==============================] - 0s 3ms/step - loss: 1.0218 - accuracy: 0.6533\n",
            "Epoch 23/30\n",
            "5/5 [==============================] - 0s 3ms/step - loss: 1.0186 - accuracy: 0.6600\n",
            "Epoch 24/30\n",
            "5/5 [==============================] - 0s 2ms/step - loss: 1.0147 - accuracy: 0.6667\n",
            "Epoch 25/30\n",
            "5/5 [==============================] - 0s 2ms/step - loss: 1.0110 - accuracy: 0.6533\n",
            "Epoch 26/30\n",
            "5/5 [==============================] - 0s 2ms/step - loss: 1.0070 - accuracy: 0.6667\n",
            "Epoch 27/30\n",
            "5/5 [==============================] - 0s 2ms/step - loss: 1.0031 - accuracy: 0.6667\n",
            "Epoch 28/30\n",
            "5/5 [==============================] - 0s 3ms/step - loss: 0.9991 - accuracy: 0.6667\n",
            "Epoch 29/30\n",
            "5/5 [==============================] - 0s 2ms/step - loss: 0.9947 - accuracy: 0.6667\n",
            "Epoch 30/30\n",
            "5/5 [==============================] - 0s 2ms/step - loss: 0.9902 - accuracy: 0.6667\n"
          ]
        },
        {
          "data": {
            "text/plain": [
              "<keras.callbacks.History at 0x7fa1d5606a90>"
            ]
          },
          "execution_count": 50,
          "metadata": {},
          "output_type": "execute_result"
        }
      ],
      "source": [
        "from keras.models import Sequential\n",
        "from keras.layers import Dense\n",
        "import tensorflow as tf\n",
        "from tensorflow.keras.optimizers import SGD\n",
        "ohy = tf.keras.utils.to_categorical(y, num_classes=3)\n",
        "model2 = Sequential()\n",
        "model2.add(Dense(6, activation='relu'))\n",
        "model2.add(Dense(10, activation='relu'))\n",
        "model2.add(Dense(8, activation='relu'))\n",
        "model2.add(Dense(3, activation='softmax'))\n",
        "model2.compile(SGD(learning_rate=0.01), loss='categorical_crossentropy', metrics=['accuracy'])\n",
        "model2.fit(x=X, y=ohy, epochs=30)"
      ]
    },
    {
      "cell_type": "markdown",
      "metadata": {
        "id": "IIabtrqIE6bX"
      },
      "source": [
        "### Examinar los resultados"
      ]
    },
    {
      "cell_type": "code",
      "execution_count": null,
      "metadata": {
        "colab": {
          "base_uri": "https://localhost:8080/",
          "height": 298
        },
        "id": "3ara-iizEWWd",
        "outputId": "24a2939b-92ec-483d-b594-028fb912d31b"
      },
      "outputs": [
        {
          "data": {
            "text/plain": [
              "Text(0.5, 1.0, 'Numpy Model Accuracy')"
            ]
          },
          "execution_count": 53,
          "metadata": {},
          "output_type": "execute_result"
        },
        {
          "data": {
            "image/png": "[encoded data removed]",
            "text/plain": [
              "<Figure size 432x288 with 1 Axes>"
            ]
          },
          "metadata": {
            "needs_background": "light"
          },
          "output_type": "display_data"
        }
      ],
      "source": [
        "plt.plot(model2.history.history['accuracy'])\n",
        "plt.title('Keras Model Accuracy')"
      ]
    },
    {
      "cell_type": "code",
      "execution_count": null,
      "metadata": {
        "colab": {
          "base_uri": "https://localhost:8080/",
          "height": 298
        },
        "id": "hjKIO2dBFBsp",
        "outputId": "87cfb5cb-baa2-41a6-85f2-1c7632f10350"
      },
      "outputs": [
        {
          "data": {
            "text/plain": [
              "Text(0.5, 1.0, 'Keras Model Loss')"
            ]
          },
          "execution_count": 54,
          "metadata": {},
          "output_type": "execute_result"
        },
        {
          "data": {
            "image/png": "[encoded data removed]",
            "text/plain": [
              "<Figure size 432x288 with 1 Axes>"
            ]
          },
          "metadata": {
            "needs_background": "light"
          },
          "output_type": "display_data"
        }
      ],
      "source": [
        "plt.plot(model2.history.history['loss'])\n",
        "plt.title('Keras Model Loss')"
      ]
    },
    {
      "cell_type": "markdown",
      "metadata": {
        "id": "mW0WO-fQpWx8"
      },
      "source": [
        "Keras no establece random.seed(), por lo que se obtendran diferentes resultados entre cada ejecución. Si se elimina esa línea del método _init_weights, la red NumPy se comporta de la misma manera."
      ]
    },
    {
      "cell_type": "markdown",
      "metadata": {
        "id": "fdFCot8fqbzy"
      },
      "source": [
        "**Ejercicio:**\n",
        "\n",
        "1. Descarga una base de datos con etiquetas para clasificación (puedes usar el siguiente link: https://www.kaggle.com/)\n",
        "2. Usa el código de Numpy para generar una red ANN que no emplee necesariamente la función ReLu entre capas ocultas. \n",
        "3. Entrena la red neuronal explicando detalladamemte lo que el código hace. \n",
        "4. Imprime los gráficos y discute los resultados. \n",
        "5. Genera el mismo modelo de red neuronal empleando Keras y Pytorch (es decir, dos modelos, uno por framework). "
      ]
    },
    {
      "cell_type": "code",
      "execution_count": null,
      "metadata": {
        "id": "oBRXa64zsIcj"
      },
      "outputs": [],
      "source": [
        ""
      ]
    },
    {
      "cell_type": "markdown",
      "metadata": {
        "id": "VHBll9RksIoR"
      },
      "source": [
        "**Ejercicio:** \n",
        "\n",
        "1. Descarga dos bases de datos. Una de imágenes para clasificación y una de secuencia (serie de tiempo). \n",
        "2. Genera un modelo de redes neuronales CNN y uno RNN (el dataset de imágenes se empleará para la red CNN y el de secuencia para la RNN), usando Keras o Pytorch. Varía todos los hiperparámetros que consideres necesarios para obtener un buen modelo. Incluso, emplea métodos de regularización en caso de considerarlo pertinente.  \n",
        "3. Explica detalladamente cada modelo.\n",
        "4. Imprime el gráfico de pérdida contra el número de épocas. Para la red CNN, muestra la curva ROC y la matriz de confusión. \n",
        "5. Discute los resultados.  "
      ]
    },
    {
      "cell_type": "code",
      "execution_count": null,
      "metadata": {
        "id": "SQLypuvDuHV9"
      },
      "outputs": [],
      "source": [
        ""
      ]
    }
  ],
  "metadata": {
    "colab": {
      "name": "TareaExtraML(1).ipynb",
      "provenance": []
    },
    "kernelspec": {
      "display_name": "Python 3 (ipykernel)",
      "language": "python",
      "name": "python3"
    },
    "language_info": {
      "codemirror_mode": {
        "name": "ipython",
        "version": 3
      },
      "file_extension": ".py",
      "mimetype": "text/x-python",
      "name": "python",
      "nbconvert_exporter": "python",
      "pygments_lexer": "ipython3",
      "version": "3.9.7"
    }
  },
  "nbformat": 4,
  "nbformat_minor": 0
}
